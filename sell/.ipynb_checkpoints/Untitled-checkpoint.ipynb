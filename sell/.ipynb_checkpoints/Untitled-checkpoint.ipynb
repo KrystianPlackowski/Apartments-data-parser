{
 "cells": [
  {
   "cell_type": "code",
   "execution_count": null,
   "metadata": {},
   "outputs": [],
   "source": [
    "import os\n",
    "import numpy as np\n",
    "import requests\n",
    "from bs4 import BeautifulSoup\n",
    "import json\n",
    "import pandas as pd\n",
    "from shapely.geometry import Point\n",
    "import pickle\n",
    "import time"
   ]
  },
  {
   "cell_type": "markdown",
   "metadata": {},
   "source": [
    "# First define some functions"
   ]
  },
  {
   "cell_type": "code",
   "execution_count": null,
   "metadata": {},
   "outputs": [],
   "source": [
    "# Find hrefs in main search page\n",
    "\n",
    "def generate_links(response):\n",
    "    \n",
    "    soup = BeautifulSoup(response.text, 'html.parser')\n",
    "    \n",
    "    # Index from 3 in order to skip promoted offers\n",
    "    offer_links = []\n",
    "    for offer in soup.find_all(class_='offer-item-details')[3:]:\n",
    "        offer_links.append(offer.find('a').attrs['href'])\n",
    "        \n",
    "    return offer_links"
   ]
  },
  {
   "cell_type": "code",
   "execution_count": null,
   "metadata": {},
   "outputs": [],
   "source": [
    "# Find data in single offer's page and return as a json\n",
    "\n",
    "def process_offer_link(link):\n",
    "    \n",
    "    # Get full html page\n",
    "    offer_response = requests.get(link)\n",
    "    # Convert to soup\n",
    "    offer_soup = BeautifulSoup(offer_response.text, 'html.parser')\n",
    "    \n",
    "    # Find interesting data\n",
    "    apartament_data = json.loads(offer_soup.find(id=\"server-app-state\").text)['initialProps']['data']['advert']\n",
    "    \n",
    "    return apartament_data"
   ]
  },
  {
   "cell_type": "markdown",
   "metadata": {},
   "source": [
    "# Now lets get to scrap!"
   ]
  },
  {
   "cell_type": "code",
   "execution_count": null,
   "metadata": {},
   "outputs": [],
   "source": [
    "response = requests.get('https://www.otodom.pl/wynajem/mieszkanie/warszawa/?search%5Bfilter_float_price%3Ato%5D=3000&search%5Bfilter_enum_rooms_num%5D%5B0%5D=2&search%5Bdescription%5D=1&search%5Bcity_id%5D=26&nrAdsPerPage=72')"
   ]
  },
  {
   "cell_type": "code",
   "execution_count": null,
   "metadata": {},
   "outputs": [],
   "source": [
    "offer_links = generate_links(response)\n",
    "for link in offer_links:\n",
    "    pass\n",
    "    #print(link)"
   ]
  },
  {
   "cell_type": "code",
   "execution_count": null,
   "metadata": {},
   "outputs": [],
   "source": [
    "# In order to not overload the server, let's wait 2 sec before processing the next link\n",
    "apartaments_data = []\n",
    "for i, link in enumerate(offer_links):\n",
    "    apartaments_data.append(process_offer_link(link))\n",
    "    print(\"Processed link number {}\".format(i))\n",
    "    time.sleep(2)"
   ]
  },
  {
   "cell_type": "code",
   "execution_count": null,
   "metadata": {},
   "outputs": [],
   "source": [
    "# Dump `apartaments_data` and `offer_links` to pickles\n",
    "with open('apartaments_data.pkl', 'wb') as f:\n",
    "    pickle.dump(apartaments_data, f)\n",
    "with open('offer_links.pkl', 'wb') as f:\n",
    "    pickle.dump(offer_links, f)"
   ]
  }
 ],
 "metadata": {
  "kernelspec": {
   "display_name": "Python 3",
   "language": "python",
   "name": "python3"
  },
  "language_info": {
   "codemirror_mode": {
    "name": "ipython",
    "version": 3
   },
   "file_extension": ".py",
   "mimetype": "text/x-python",
   "name": "python",
   "nbconvert_exporter": "python",
   "pygments_lexer": "ipython3",
   "version": "3.6.9"
  }
 },
 "nbformat": 4,
 "nbformat_minor": 2
}
