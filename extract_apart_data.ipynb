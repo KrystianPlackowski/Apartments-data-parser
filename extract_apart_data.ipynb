{
 "cells": [
  {
   "cell_type": "code",
   "execution_count": 1,
   "metadata": {},
   "outputs": [],
   "source": [
    "import os\n",
    "import numpy as np\n",
    "import requests\n",
    "from bs4 import BeautifulSoup\n",
    "import json\n",
    "import pandas as pd\n",
    "from shapely.geometry import Point\n",
    "import pickle\n",
    "import time\n",
    "import datetime"
   ]
  },
  {
   "cell_type": "markdown",
   "metadata": {},
   "source": [
    "# First define some functions"
   ]
  },
  {
   "cell_type": "code",
   "execution_count": 4,
   "metadata": {},
   "outputs": [],
   "source": [
    "# Find hrefs in main search page\n",
    "\n",
    "def generate_links(response):\n",
    "    \n",
    "    soup = BeautifulSoup(response.text, 'html.parser')\n",
    "    \n",
    "    # Index from 3 in order to skip promoted offers\n",
    "    offer_links = []\n",
    "    for offer in soup.find_all(class_='offer-item-details')[3:]:\n",
    "        offer_links.append(offer.find('a').attrs['href'])\n",
    "        \n",
    "    return offer_links"
   ]
  },
  {
   "cell_type": "code",
   "execution_count": 5,
   "metadata": {},
   "outputs": [],
   "source": [
    "# Find data in single offer's page and return as a json\n",
    "\n",
    "def process_offer_link(link):\n",
    "    \n",
    "    # Get full html page\n",
    "    offer_response = requests.get(link)\n",
    "    # Convert to soup\n",
    "    offer_soup = BeautifulSoup(offer_response.text, 'html.parser')\n",
    "    \n",
    "    # Find interesting data\n",
    "    apartament_data = json.loads(offer_soup.find(id=\"server-app-state\").text)['initialProps']['data']['advert']\n",
    "    \n",
    "    return apartament_data"
   ]
  },
  {
   "cell_type": "code",
   "execution_count": 6,
   "metadata": {},
   "outputs": [],
   "source": [
    "# Function for extracting relevant data from json\n",
    "\n",
    "def collect_data_from_json(apartament_data):\n",
    "    \n",
    "    # Uncomment below to review json\n",
    "    #print(json.dumps(apartament_data, indent=4, sort_keys=True)) \n",
    "    \n",
    "    # Initiate empty dict\n",
    "    parsed_data = dict()\n",
    "    \n",
    "    # Price\n",
    "    parsed_data['Cena'] = apartament_data['price']['value']\n",
    "    \n",
    "    # Basic infos\n",
    "    for factor in apartament_data['characteristics']:\n",
    "        if factor['label'] in ['Czynsz - dodatkowo', 'Kaucja', 'Powierzchnia']:\n",
    "            parsed_data[factor['label']] = factor['value']\n",
    "        else:\n",
    "            parsed_data[factor['label']] = factor['value_translated']\n",
    "    \n",
    "    # Date of last edit >>personal data<<\n",
    "    #parsed_data['Data ogłoszenia'] = apartament_data['dateModified']\n",
    "    \n",
    "    # Adres >>personal data<<\n",
    "    #parsed_data['Adres'] = apartament_data['location']['address']\n",
    "    \n",
    "    # URL >>personal data<<\n",
    "    #parsed_data['URL'] = apartament_data['url']\n",
    "    \n",
    "    # Geolocation\n",
    "    latitude = apartament_data['location']['coordinates']['latitude']\n",
    "    longitude = apartament_data['location']['coordinates']['longitude']\n",
    "    radius = apartament_data['location']['coordinates']['radius']\n",
    "    (parsed_data['φ'], parsed_data['λ']) = (latitude, longitude) if radius == 0 else (np.nan, np.nan)\n",
    "    \n",
    "    # Links to small photos >>personal data<<\n",
    "    photos = [i['thumbnail'] for i in apartament_data['photos']]\n",
    "    \n",
    "    return parsed_data, photos"
   ]
  },
  {
   "cell_type": "markdown",
   "metadata": {},
   "source": [
    "# Now lets get to scrap!"
   ]
  },
  {
   "cell_type": "code",
   "execution_count": 30,
   "metadata": {
    "scrolled": true
   },
   "outputs": [
    {
     "name": "stdout",
     "output_type": "stream",
     "text": [
      "Processed page number 1\n",
      "Processed page number 2\n",
      "Processed page number 3\n",
      "Processed page number 4\n",
      "Processed page number 5\n",
      "Processed page number 6\n",
      "Processed page number 7\n",
      "Processed page number 8\n",
      "Processed page number 9\n",
      "Processed page number 10\n",
      "Processed page number 11\n",
      "Processed page number 12\n",
      "Processed page number 13\n",
      "Processed page number 14\n",
      "Processed page number 15\n",
      "Processed page number 16\n",
      "Processed page number 17\n",
      "Processed page number 18\n",
      "Processed page number 19\n",
      "Processed page number 20\n",
      "Processed page number 21\n",
      "Processed page number 22\n",
      "Processed page number 23\n",
      "Processed page number 24\n",
      "Processed page number 25\n",
      "Processed page number 26\n",
      "Processed page number 27\n",
      "Processed page number 28\n",
      "Processed page number 29\n",
      "Processed page number 30\n",
      "Processed page number 31\n",
      "Processed page number 32\n",
      "Processed page number 33\n",
      "Processed page number 34\n",
      "Processed page number 35\n",
      "Processed page number 36\n",
      "Processed page number 37\n",
      "Processed page number 38\n",
      "Processed page number 39\n",
      "Processed page number 40\n",
      "Processed page number 41\n",
      "Processed page number 42\n",
      "Processed page number 43\n",
      "Processed page number 44\n",
      "Processed page number 45\n",
      "Processed page number 46\n",
      "Processed page number 47\n",
      "Processed page number 48\n",
      "Processed page number 49\n",
      "Processed page number 50\n",
      "Processed page number 51\n",
      "Processed page number 52\n",
      "Processed page number 53\n",
      "Processed page number 54\n",
      "Processed page number 55\n",
      "Processed page number 56\n",
      "Processed page number 57\n",
      "Processed page number 58\n",
      "Processed page number 59\n",
      "Processed page number 60\n",
      "Processed page number 61\n",
      "Processed page number 62\n",
      "Processed page number 63\n",
      "Processed page number 64\n",
      "Processed page number 65\n",
      "Processed page number 66\n",
      "Processed page number 67\n",
      "Processed page number 68\n",
      "Processed page number 69\n",
      "Processed page number 70\n",
      "Processed page number 71\n",
      "Processed page number 72\n",
      "Processed page number 73\n",
      "Processed page number 74\n",
      "Processed page number 75\n",
      "Processed page number 76\n",
      "Processed page number 77\n",
      "Processed page number 78\n",
      "Processed page number 79\n",
      "Processed page number 80\n",
      "Processed page number 81\n",
      "Processed page number 82\n",
      "Processed page number 83\n",
      "Processed page number 84\n",
      "Processed page number 85\n",
      "Processed page number 86\n",
      "Processed page number 87\n",
      "Processed page number 88\n",
      "Processed page number 89\n",
      "Processed page number 90\n"
     ]
    }
   ],
   "source": [
    "# Load 90 pages each with 72 results of apartaments\n",
    "\n",
    "offer_links = []\n",
    "\n",
    "for page in range(90):\n",
    "    response = requests.get('https://www.otodom.pl/wynajem/mieszkanie/warszawa/?search%5Bdescription%5D=1&search%5Bcity_id%5D=26&nrAdsPerPage=72'\n",
    "                       + '&page={}'.format(page+1))\n",
    "    \n",
    "    offer_links += generate_links(response)\n",
    "    print(\"Processed page number {}\".format(page+1))"
   ]
  },
  {
   "cell_type": "code",
   "execution_count": null,
   "metadata": {
    "scrolled": true
   },
   "outputs": [],
   "source": [
    "# In order to not overload the server, we can wait 1 sec before processing the a link\n",
    "\n",
    "apartaments_data = []\n",
    "for i, link in enumerate(offer_links[:3600]):\n",
    "    try:\n",
    "        apartaments_data.append(process_offer_link(link))\n",
    "        print(\"Processed link number {}\".format(i+1))\n",
    "    except:\n",
    "        print(\"Some error happened while processing link number {}\".format(i+1))\n",
    "    time.sleep(1)"
   ]
  },
  {
   "cell_type": "markdown",
   "metadata": {},
   "source": [
    "# Dump `apartaments_data` (json) and `offer_links` (list) to pickles for backups!"
   ]
  },
  {
   "cell_type": "code",
   "execution_count": 43,
   "metadata": {},
   "outputs": [],
   "source": [
    "if not os.path.isdir(\"pickles\"):\n",
    "     os.mkdir(\"pickles\")\n",
    "\n",
    "with open('pickles/apartaments_data.pkl', 'wb') as f:\n",
    "    pickle.dump(apartaments_data, f)\n",
    "with open('pickles/offer_links.pkl', 'wb') as f:\n",
    "    pickle.dump(offer_links, f)"
   ]
  },
  {
   "cell_type": "markdown",
   "metadata": {},
   "source": [
    "# (OR) Load pickle files for `apartaments_data` and `offer_links`"
   ]
  },
  {
   "cell_type": "code",
   "execution_count": 74,
   "metadata": {},
   "outputs": [],
   "source": [
    "with open('pickles/apartaments_data.pkl', 'rb') as f:\n",
    "    apartaments_data = pickle.load(f) \n",
    "with open('pickles/offer_links.pkl', 'rb') as f:\n",
    "    offer_links = pickle.load(f)"
   ]
  },
  {
   "cell_type": "markdown",
   "metadata": {},
   "source": [
    "# Extract relevant features from json"
   ]
  },
  {
   "cell_type": "code",
   "execution_count": 75,
   "metadata": {},
   "outputs": [],
   "source": [
    "df_list = []\n",
    "photos_list = []\n",
    "for house_data in apartaments_data:\n",
    "    \n",
    "    parsed_data, photos = collect_data_from_json(house_data)\n",
    "    \n",
    "    photos_list.append(photos)\n",
    "\n",
    "    # Append features data to the list of DataFrames\n",
    "    columns = list(parsed_data.keys())\n",
    "    rows = list(parsed_data.values())\n",
    "    df_list.append(pd.DataFrame([rows], columns=columns))"
   ]
  },
  {
   "cell_type": "code",
   "execution_count": 76,
   "metadata": {},
   "outputs": [],
   "source": [
    "# Concatonate all DataFrames in desired way\n",
    "\n",
    "df = pd.concat(df_list, sort=False).reset_index(drop=True)\n",
    "df = df.drop(columns = 'Dostępne od')  # drop because it's a personal data"
   ]
  },
  {
   "cell_type": "code",
   "execution_count": 77,
   "metadata": {},
   "outputs": [
    {
     "data": {
      "text/plain": [
       "'if \\'Zdjęcia\\' in df:\\n    df = df.drop(columns = \\'Zdjęcia\\')\\ndf.insert(df.shape[1], \"Zdjęcia\", str(photos_list).strip(\\'[]\\'))'"
      ]
     },
     "execution_count": 77,
     "metadata": {},
     "output_type": "execute_result"
    }
   ],
   "source": [
    "# Add photos_list (as columns) to the DataFrame\n",
    "\n",
    "\"\"\"if 'Zdjęcia' in df:\n",
    "    df = df.drop(columns = 'Zdjęcia')\n",
    "df.insert(df.shape[1], \"Zdjęcia\", str(photos_list).strip('[]'))\"\"\"\n",
    "# Skip because it's a personal data"
   ]
  },
  {
   "cell_type": "markdown",
   "metadata": {},
   "source": [
    "# Remove duplicated advertisements"
   ]
  },
  {
   "cell_type": "code",
   "execution_count": 78,
   "metadata": {},
   "outputs": [
    {
     "name": "stdout",
     "output_type": "stream",
     "text": [
      "3564 3525\n"
     ]
    }
   ],
   "source": [
    "print(len(df), len(df.drop_duplicates()))\n",
    "df = df.drop_duplicates()"
   ]
  },
  {
   "cell_type": "markdown",
   "metadata": {},
   "source": [
    "# Save as .csv for future analyse"
   ]
  },
  {
   "cell_type": "code",
   "execution_count": 79,
   "metadata": {},
   "outputs": [],
   "source": [
    "df.to_csv(\"apartaments.csv\", index=False)"
   ]
  },
  {
   "cell_type": "code",
   "execution_count": 80,
   "metadata": {},
   "outputs": [
    {
     "data": {
      "text/html": [
       "<div>\n",
       "<style scoped>\n",
       "    .dataframe tbody tr th:only-of-type {\n",
       "        vertical-align: middle;\n",
       "    }\n",
       "\n",
       "    .dataframe tbody tr th {\n",
       "        vertical-align: top;\n",
       "    }\n",
       "\n",
       "    .dataframe thead th {\n",
       "        text-align: right;\n",
       "    }\n",
       "</style>\n",
       "<table border=\"1\" class=\"dataframe\">\n",
       "  <thead>\n",
       "    <tr style=\"text-align: right;\">\n",
       "      <th></th>\n",
       "      <th>Cena</th>\n",
       "      <th>Kaucja</th>\n",
       "      <th>Powierzchnia</th>\n",
       "      <th>Liczba pokoi</th>\n",
       "      <th>Rodzaj zabudowy</th>\n",
       "      <th>Piętro</th>\n",
       "      <th>Okna</th>\n",
       "      <th>Ogrzewanie</th>\n",
       "      <th>Stan wykończenia</th>\n",
       "      <th>φ</th>\n",
       "      <th>λ</th>\n",
       "      <th>Czynsz - dodatkowo</th>\n",
       "      <th>Liczba pięter</th>\n",
       "      <th>Materiał budynku</th>\n",
       "      <th>Rok budowy</th>\n",
       "    </tr>\n",
       "  </thead>\n",
       "  <tbody>\n",
       "    <tr>\n",
       "      <th>0</th>\n",
       "      <td>2400</td>\n",
       "      <td>2400</td>\n",
       "      <td>48</td>\n",
       "      <td>3</td>\n",
       "      <td>blok</td>\n",
       "      <td>2</td>\n",
       "      <td>plastikowe</td>\n",
       "      <td>miejskie</td>\n",
       "      <td>do zamieszkania</td>\n",
       "      <td>52.231618</td>\n",
       "      <td>21.066343</td>\n",
       "      <td>NaN</td>\n",
       "      <td>NaN</td>\n",
       "      <td>NaN</td>\n",
       "      <td>NaN</td>\n",
       "    </tr>\n",
       "    <tr>\n",
       "      <th>1</th>\n",
       "      <td>2400</td>\n",
       "      <td>3000</td>\n",
       "      <td>45</td>\n",
       "      <td>2</td>\n",
       "      <td>apartamentowiec</td>\n",
       "      <td>2</td>\n",
       "      <td>plastikowe</td>\n",
       "      <td>miejskie</td>\n",
       "      <td>do zamieszkania</td>\n",
       "      <td>52.289194</td>\n",
       "      <td>20.930776</td>\n",
       "      <td>500</td>\n",
       "      <td>5</td>\n",
       "      <td>cegła</td>\n",
       "      <td>2014</td>\n",
       "    </tr>\n",
       "    <tr>\n",
       "      <th>2</th>\n",
       "      <td>2600</td>\n",
       "      <td>NaN</td>\n",
       "      <td>40</td>\n",
       "      <td>2</td>\n",
       "      <td>apartamentowiec</td>\n",
       "      <td>4</td>\n",
       "      <td>plastikowe</td>\n",
       "      <td>miejskie</td>\n",
       "      <td>do zamieszkania</td>\n",
       "      <td>52.199425</td>\n",
       "      <td>21.044630</td>\n",
       "      <td>NaN</td>\n",
       "      <td>6</td>\n",
       "      <td>pustak</td>\n",
       "      <td>2018</td>\n",
       "    </tr>\n",
       "    <tr>\n",
       "      <th>3</th>\n",
       "      <td>2300</td>\n",
       "      <td>2500</td>\n",
       "      <td>54</td>\n",
       "      <td>2</td>\n",
       "      <td>blok</td>\n",
       "      <td>1</td>\n",
       "      <td>plastikowe</td>\n",
       "      <td>miejskie</td>\n",
       "      <td>do zamieszkania</td>\n",
       "      <td>52.287912</td>\n",
       "      <td>21.054128</td>\n",
       "      <td>400</td>\n",
       "      <td>5</td>\n",
       "      <td>NaN</td>\n",
       "      <td>2007</td>\n",
       "    </tr>\n",
       "    <tr>\n",
       "      <th>4</th>\n",
       "      <td>2950</td>\n",
       "      <td>NaN</td>\n",
       "      <td>54</td>\n",
       "      <td>3</td>\n",
       "      <td>blok</td>\n",
       "      <td>3</td>\n",
       "      <td>drewniane</td>\n",
       "      <td>miejskie</td>\n",
       "      <td>do zamieszkania</td>\n",
       "      <td>52.153523</td>\n",
       "      <td>21.082662</td>\n",
       "      <td>350</td>\n",
       "      <td>4</td>\n",
       "      <td>cegła</td>\n",
       "      <td>2016</td>\n",
       "    </tr>\n",
       "  </tbody>\n",
       "</table>\n",
       "</div>"
      ],
      "text/plain": [
       "   Cena Kaucja Powierzchnia Liczba pokoi  Rodzaj zabudowy Piętro        Okna  \\\n",
       "0  2400   2400           48            3             blok      2  plastikowe   \n",
       "1  2400   3000           45            2  apartamentowiec      2  plastikowe   \n",
       "2  2600    NaN           40            2  apartamentowiec      4  plastikowe   \n",
       "3  2300   2500           54            2             blok      1  plastikowe   \n",
       "4  2950    NaN           54            3             blok      3   drewniane   \n",
       "\n",
       "  Ogrzewanie Stan wykończenia          φ          λ Czynsz - dodatkowo  \\\n",
       "0   miejskie  do zamieszkania  52.231618  21.066343                NaN   \n",
       "1   miejskie  do zamieszkania  52.289194  20.930776                500   \n",
       "2   miejskie  do zamieszkania  52.199425  21.044630                NaN   \n",
       "3   miejskie  do zamieszkania  52.287912  21.054128                400   \n",
       "4   miejskie  do zamieszkania  52.153523  21.082662                350   \n",
       "\n",
       "  Liczba pięter Materiał budynku Rok budowy  \n",
       "0           NaN              NaN        NaN  \n",
       "1             5            cegła       2014  \n",
       "2             6           pustak       2018  \n",
       "3             5              NaN       2007  \n",
       "4             4            cegła       2016  "
      ]
     },
     "execution_count": 80,
     "metadata": {},
     "output_type": "execute_result"
    }
   ],
   "source": [
    "df.head()"
   ]
  },
  {
   "cell_type": "code",
   "execution_count": null,
   "metadata": {},
   "outputs": [],
   "source": []
  }
 ],
 "metadata": {
  "kernelspec": {
   "display_name": "Python 3",
   "language": "python",
   "name": "python3"
  },
  "language_info": {
   "codemirror_mode": {
    "name": "ipython",
    "version": 3
   },
   "file_extension": ".py",
   "mimetype": "text/x-python",
   "name": "python",
   "nbconvert_exporter": "python",
   "pygments_lexer": "ipython3",
   "version": "3.6.9"
  }
 },
 "nbformat": 4,
 "nbformat_minor": 2
}
