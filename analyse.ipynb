{
 "cells": [
  {
   "cell_type": "code",
   "execution_count": 1,
   "metadata": {
    "scrolled": true
   },
   "outputs": [],
   "source": [
    "import os\n",
    "import numpy as np\n",
    "import pandas as pd\n",
    "from shapely.geometry import Point\n",
    "import pickle"
   ]
  },
  {
   "cell_type": "markdown",
   "metadata": {},
   "source": [
    "# Import interactive maps module"
   ]
  },
  {
   "cell_type": "code",
   "execution_count": 2,
   "metadata": {
    "scrolled": true
   },
   "outputs": [],
   "source": [
    "import geopandas as gpd\n",
    "import folium\n",
    "from folium import Choropleth, Circle, Marker\n",
    "from folium.plugins import HeatMap, MarkerCluster"
   ]
  },
  {
   "cell_type": "code",
   "execution_count": 3,
   "metadata": {
    "scrolled": true
   },
   "outputs": [],
   "source": [
    "# Function for displaying the map\n",
    "\n",
    "def embed_map(m, file_name):\n",
    "    from IPython.display import IFrame\n",
    "    m.save(file_name)\n",
    "    return IFrame(file_name, width='100%', height='500px')"
   ]
  },
  {
   "cell_type": "markdown",
   "metadata": {},
   "source": [
    "# Define functions for calculating distance on Earth"
   ]
  },
  {
   "cell_type": "code",
   "execution_count": 4,
   "metadata": {},
   "outputs": [],
   "source": [
    "# Using geopy\n",
    "import geopy.distance\n",
    "\n",
    "def dist(a, b):\n",
    "    return geopy.distance.geodesic((a.x, a.y), (b.x, b.y)).km"
   ]
  },
  {
   "cell_type": "code",
   "execution_count": 5,
   "metadata": {},
   "outputs": [],
   "source": [
    "# Using geopandas\n",
    "def dist_2(a, b):\n",
    "    a = gpd.GeoSeries(Point(a.y, a.x), crs=({\"init\":\"epsg:4326\"})).to_crs(epsg=3310)\n",
    "    b = gpd.GeoSeries(Point(b.y, b.x), crs=({\"init\":\"epsg:4326\"})).to_crs(epsg=3310)\n",
    "    return a.distance(b) / 1000"
   ]
  },
  {
   "cell_type": "markdown",
   "metadata": {},
   "source": [
    "# Load DataFrames for apartaments and metro"
   ]
  },
  {
   "cell_type": "code",
   "execution_count": 6,
   "metadata": {},
   "outputs": [],
   "source": [
    "apartaments = pd.read_csv(\"apartaments.csv\")\n",
    "metro = pd.read_csv(\"metro.csv\")"
   ]
  },
  {
   "cell_type": "code",
   "execution_count": 7,
   "metadata": {},
   "outputs": [
    {
     "data": {
      "text/html": [
       "<div>\n",
       "<style scoped>\n",
       "    .dataframe tbody tr th:only-of-type {\n",
       "        vertical-align: middle;\n",
       "    }\n",
       "\n",
       "    .dataframe tbody tr th {\n",
       "        vertical-align: top;\n",
       "    }\n",
       "\n",
       "    .dataframe thead th {\n",
       "        text-align: right;\n",
       "    }\n",
       "</style>\n",
       "<table border=\"1\" class=\"dataframe\">\n",
       "  <thead>\n",
       "    <tr style=\"text-align: right;\">\n",
       "      <th></th>\n",
       "      <th>Cena</th>\n",
       "      <th>Czynsz - dodatkowo</th>\n",
       "      <th>Kaucja</th>\n",
       "      <th>Powierzchnia</th>\n",
       "      <th>Liczba pokoi</th>\n",
       "      <th>Rodzaj zabudowy</th>\n",
       "      <th>Piętro</th>\n",
       "      <th>Liczba pięter</th>\n",
       "      <th>Materiał budynku</th>\n",
       "      <th>Okna</th>\n",
       "      <th>Ogrzewanie</th>\n",
       "      <th>Rok budowy</th>\n",
       "      <th>Stan wykończenia</th>\n",
       "      <th>Dostępne od</th>\n",
       "      <th>Data ogłoszenia</th>\n",
       "      <th>Adres</th>\n",
       "      <th>φ</th>\n",
       "      <th>λ</th>\n",
       "      <th>Link</th>\n",
       "      <th>Zdjęcia</th>\n",
       "    </tr>\n",
       "  </thead>\n",
       "  <tbody>\n",
       "    <tr>\n",
       "      <th>0</th>\n",
       "      <td>2200</td>\n",
       "      <td>400 zł</td>\n",
       "      <td>2 600 zł</td>\n",
       "      <td>36 m²</td>\n",
       "      <td>2</td>\n",
       "      <td>blok</td>\n",
       "      <td>parter</td>\n",
       "      <td>4.0</td>\n",
       "      <td>cegła</td>\n",
       "      <td>drewniane</td>\n",
       "      <td>miejskie</td>\n",
       "      <td>2018.0</td>\n",
       "      <td>do zamieszkania</td>\n",
       "      <td>2019-12-15</td>\n",
       "      <td>2019-12-24 16:18:45</td>\n",
       "      <td>Warszawa, Wilanów, Sarmacka 4 B</td>\n",
       "      <td>52.236140</td>\n",
       "      <td>21.008170</td>\n",
       "      <td>https://www.otodom.pl/oferta/bezposrednio-2-po...</td>\n",
       "      <td>'https://apollo-ireland.akamaized.net/v1/files...</td>\n",
       "    </tr>\n",
       "    <tr>\n",
       "      <th>1</th>\n",
       "      <td>2900</td>\n",
       "      <td>300 zł</td>\n",
       "      <td>2 900 zł</td>\n",
       "      <td>50 m²</td>\n",
       "      <td>2</td>\n",
       "      <td>apartamentowiec</td>\n",
       "      <td>&gt; 10</td>\n",
       "      <td>14.0</td>\n",
       "      <td>cegła</td>\n",
       "      <td>drewniane</td>\n",
       "      <td>miejskie</td>\n",
       "      <td>2010.0</td>\n",
       "      <td>do zamieszkania</td>\n",
       "      <td>2019-12-02</td>\n",
       "      <td>2019-12-24 16:13:36</td>\n",
       "      <td>Warszawa, Mokotów, Melody Park</td>\n",
       "      <td>52.169271</td>\n",
       "      <td>21.020154</td>\n",
       "      <td>https://www.otodom.pl/oferta/pulawska-dol-sluz...</td>\n",
       "      <td>'https://apollo-ireland.akamaized.net/v1/files...</td>\n",
       "    </tr>\n",
       "    <tr>\n",
       "      <th>2</th>\n",
       "      <td>2600</td>\n",
       "      <td>400 zł</td>\n",
       "      <td>3 000 zł</td>\n",
       "      <td>42 m²</td>\n",
       "      <td>2</td>\n",
       "      <td>kamienica</td>\n",
       "      <td>5</td>\n",
       "      <td>5.0</td>\n",
       "      <td>cegła</td>\n",
       "      <td>plastikowe</td>\n",
       "      <td>miejskie</td>\n",
       "      <td>1925.0</td>\n",
       "      <td>do zamieszkania</td>\n",
       "      <td>2019-12-16</td>\n",
       "      <td>2019-12-24 16:01:38</td>\n",
       "      <td>Warszawa, Praga-Północ, Praga, Kaweczynska 16</td>\n",
       "      <td>52.205560</td>\n",
       "      <td>21.074520</td>\n",
       "      <td>https://www.otodom.pl/oferta/mieszkanie-nowocz...</td>\n",
       "      <td>'https://apollo-ireland.akamaized.net/v1/files...</td>\n",
       "    </tr>\n",
       "    <tr>\n",
       "      <th>3</th>\n",
       "      <td>2700</td>\n",
       "      <td>500 zł</td>\n",
       "      <td>3 000 zł</td>\n",
       "      <td>50 m²</td>\n",
       "      <td>2</td>\n",
       "      <td>apartamentowiec</td>\n",
       "      <td>1</td>\n",
       "      <td>8.0</td>\n",
       "      <td>cegła</td>\n",
       "      <td>plastikowe</td>\n",
       "      <td>miejskie</td>\n",
       "      <td>NaN</td>\n",
       "      <td>do zamieszkania</td>\n",
       "      <td>2020-01-20</td>\n",
       "      <td>2019-12-24 15:36:46</td>\n",
       "      <td>Warszawa, Mokotów, ul. Postępu 10</td>\n",
       "      <td>52.178010</td>\n",
       "      <td>20.996466</td>\n",
       "      <td>https://www.otodom.pl/oferta/postepu-10-nowe-k...</td>\n",
       "      <td>'https://apollo-ireland.akamaized.net/v1/files...</td>\n",
       "    </tr>\n",
       "    <tr>\n",
       "      <th>4</th>\n",
       "      <td>3000</td>\n",
       "      <td>200 zł</td>\n",
       "      <td>3 000 zł</td>\n",
       "      <td>45 m²</td>\n",
       "      <td>2</td>\n",
       "      <td>apartamentowiec</td>\n",
       "      <td>5</td>\n",
       "      <td>7.0</td>\n",
       "      <td>cegła</td>\n",
       "      <td>drewniane</td>\n",
       "      <td>miejskie</td>\n",
       "      <td>2016.0</td>\n",
       "      <td>do zamieszkania</td>\n",
       "      <td>2020-01-01</td>\n",
       "      <td>2019-12-24 14:50:54</td>\n",
       "      <td>Warszawa, Mokotów, Dolny Mokotów, ul. Magazynowa</td>\n",
       "      <td>52.185539</td>\n",
       "      <td>21.004877</td>\n",
       "      <td>https://www.otodom.pl/oferta/magazynowa-45-m2-...</td>\n",
       "      <td>'https://apollo-ireland.akamaized.net/v1/files...</td>\n",
       "    </tr>\n",
       "  </tbody>\n",
       "</table>\n",
       "</div>"
      ],
      "text/plain": [
       "   Cena Czynsz - dodatkowo    Kaucja Powierzchnia  Liczba pokoi  \\\n",
       "0  2200             400 zł  2 600 zł        36 m²             2   \n",
       "1  2900             300 zł  2 900 zł        50 m²             2   \n",
       "2  2600             400 zł  3 000 zł        42 m²             2   \n",
       "3  2700             500 zł  3 000 zł        50 m²             2   \n",
       "4  3000             200 zł  3 000 zł        45 m²             2   \n",
       "\n",
       "   Rodzaj zabudowy  Piętro  Liczba pięter Materiał budynku        Okna  \\\n",
       "0             blok  parter            4.0            cegła   drewniane   \n",
       "1  apartamentowiec    > 10           14.0            cegła   drewniane   \n",
       "2        kamienica       5            5.0            cegła  plastikowe   \n",
       "3  apartamentowiec       1            8.0            cegła  plastikowe   \n",
       "4  apartamentowiec       5            7.0            cegła   drewniane   \n",
       "\n",
       "  Ogrzewanie  Rok budowy Stan wykończenia Dostępne od      Data ogłoszenia  \\\n",
       "0   miejskie      2018.0  do zamieszkania  2019-12-15  2019-12-24 16:18:45   \n",
       "1   miejskie      2010.0  do zamieszkania  2019-12-02  2019-12-24 16:13:36   \n",
       "2   miejskie      1925.0  do zamieszkania  2019-12-16  2019-12-24 16:01:38   \n",
       "3   miejskie         NaN  do zamieszkania  2020-01-20  2019-12-24 15:36:46   \n",
       "4   miejskie      2016.0  do zamieszkania  2020-01-01  2019-12-24 14:50:54   \n",
       "\n",
       "                                              Adres          φ          λ  \\\n",
       "0                   Warszawa, Wilanów, Sarmacka 4 B  52.236140  21.008170   \n",
       "1                    Warszawa, Mokotów, Melody Park  52.169271  21.020154   \n",
       "2     Warszawa, Praga-Północ, Praga, Kaweczynska 16  52.205560  21.074520   \n",
       "3                 Warszawa, Mokotów, ul. Postępu 10  52.178010  20.996466   \n",
       "4  Warszawa, Mokotów, Dolny Mokotów, ul. Magazynowa  52.185539  21.004877   \n",
       "\n",
       "                                                Link  \\\n",
       "0  https://www.otodom.pl/oferta/bezposrednio-2-po...   \n",
       "1  https://www.otodom.pl/oferta/pulawska-dol-sluz...   \n",
       "2  https://www.otodom.pl/oferta/mieszkanie-nowocz...   \n",
       "3  https://www.otodom.pl/oferta/postepu-10-nowe-k...   \n",
       "4  https://www.otodom.pl/oferta/magazynowa-45-m2-...   \n",
       "\n",
       "                                             Zdjęcia  \n",
       "0  'https://apollo-ireland.akamaized.net/v1/files...  \n",
       "1  'https://apollo-ireland.akamaized.net/v1/files...  \n",
       "2  'https://apollo-ireland.akamaized.net/v1/files...  \n",
       "3  'https://apollo-ireland.akamaized.net/v1/files...  \n",
       "4  'https://apollo-ireland.akamaized.net/v1/files...  "
      ]
     },
     "execution_count": 7,
     "metadata": {},
     "output_type": "execute_result"
    }
   ],
   "source": [
    "apartaments.head()"
   ]
  },
  {
   "cell_type": "markdown",
   "metadata": {},
   "source": [
    "## First add `price` to `rental price` in order to get `real price`"
   ]
  },
  {
   "cell_type": "code",
   "execution_count": 8,
   "metadata": {},
   "outputs": [],
   "source": [
    "# Check if value is Nan or not\n",
    "def notNan(a):\n",
    "    return a == a"
   ]
  },
  {
   "cell_type": "code",
   "execution_count": 9,
   "metadata": {},
   "outputs": [],
   "source": [
    "def real_price(row):\n",
    "    if notNan(row['Czynsz - dodatkowo']):\n",
    "        return int(row['Cena']) + int(''.join(c for c in row['Czynsz - dodatkowo'] if c.isdigit()))\n",
    "    else:\n",
    "        return int(row['Cena'])"
   ]
  },
  {
   "cell_type": "code",
   "execution_count": 10,
   "metadata": {},
   "outputs": [],
   "source": [
    "if 'Cena rzeczywista' in apartaments or not 'Cena' in apartaments:\n",
    "    print(\"Reloading apartamens.csv file\")\n",
    "    apartaments = pd.read_csv(\"apartaments.csv\")\n",
    "    \n",
    "apartaments.insert(1, \"Cena rzeczywista\", apartaments.apply(real_price, axis=1))\n",
    "apartaments = apartaments.drop(columns = ['Cena', 'Czynsz - dodatkowo'])"
   ]
  },
  {
   "cell_type": "markdown",
   "metadata": {},
   "source": [
    "# Plot locations of apartaments"
   ]
  },
  {
   "cell_type": "code",
   "execution_count": 11,
   "metadata": {},
   "outputs": [
    {
     "data": {
      "text/html": [
       "\n",
       "        <iframe\n",
       "            width=\"100%\"\n",
       "            height=\"500px\"\n",
       "            src=\"maps/m_2.html\"\n",
       "            frameborder=\"0\"\n",
       "            allowfullscreen\n",
       "        ></iframe>\n",
       "        "
      ],
      "text/plain": [
       "<IPython.lib.display.IFrame at 0x7fb3fd083400>"
      ]
     },
     "execution_count": 11,
     "metadata": {},
     "output_type": "execute_result"
    }
   ],
   "source": [
    "# Create a map\n",
    "m_2 = folium.Map(location=[52.2323,21.0000], tiles='cartodbpositron', zoom_start=11)\n",
    "\n",
    "# Add points to the map\n",
    "for idx, house in apartaments.iterrows():\n",
    "    if notNan(house['φ']):\n",
    "        Marker([house['φ'], house['λ']], popup=idx).add_to(m_2)\n",
    "\n",
    "# Display the map\n",
    "if not os.path.isdir(\"maps\"):\n",
    "     os.mkdir(\"maps\")\n",
    "embed_map(m_2, 'maps/m_2.html')"
   ]
  },
  {
   "cell_type": "markdown",
   "metadata": {},
   "source": [
    "# Find distance to nearest metro station for all valid houses"
   ]
  },
  {
   "cell_type": "code",
   "execution_count": 13,
   "metadata": {},
   "outputs": [],
   "source": [
    "output = []\n",
    "\n",
    "for idx, house in apartaments.iterrows():\n",
    "    if notNan(house['φ']):\n",
    "        list_ = [dist(Point(house['φ'], house['λ']), Point(station['φ'], station['λ']))\n",
    "                 for jdx, station in metro.iterrows()]\n",
    "        output.append((house['Link'], house['Cena rzeczywista'], round(min(list_),2), metro.iloc[np.argmin(list_)]['Nazwa']))\n",
    "                \n",
    "# Display as an offer, sorted\n",
    "for a,b,c,d in sorted(output, key=lambda tup: tup[1]):\n",
    "    pass\n",
    "    #print(\"Oferta: {}\\n, cena: {} zł, {} km od stacji {}\\n\".format(a,b,c,d))"
   ]
  },
  {
   "cell_type": "code",
   "execution_count": null,
   "metadata": {},
   "outputs": [],
   "source": []
  }
 ],
 "metadata": {
  "kernelspec": {
   "display_name": "Python 3",
   "language": "python",
   "name": "python3"
  },
  "language_info": {
   "codemirror_mode": {
    "name": "ipython",
    "version": 3
   },
   "file_extension": ".py",
   "mimetype": "text/x-python",
   "name": "python",
   "nbconvert_exporter": "python",
   "pygments_lexer": "ipython3",
   "version": "3.6.9"
  }
 },
 "nbformat": 4,
 "nbformat_minor": 2
}
