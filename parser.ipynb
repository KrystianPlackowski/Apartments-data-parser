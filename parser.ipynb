{
 "cells": [
  {
   "cell_type": "code",
   "execution_count": 27,
   "metadata": {
    "scrolled": true
   },
   "outputs": [],
   "source": [
    "import os\n",
    "import numpy as np\n",
    "import requests\n",
    "from bs4 import BeautifulSoup\n",
    "import json\n",
    "import pandas as pd\n",
    "from shapely.geometry import Point\n",
    "import pickle\n",
    "import time"
   ]
  },
  {
   "cell_type": "markdown",
   "metadata": {},
   "source": [
    "# First define some functions"
   ]
  },
  {
   "cell_type": "code",
   "execution_count": 2,
   "metadata": {
    "scrolled": true
   },
   "outputs": [],
   "source": [
    "# Find hrefs in main search page\n",
    "\n",
    "def generate_links(response):\n",
    "    \n",
    "    soup = BeautifulSoup(response.text, 'html.parser')\n",
    "    \n",
    "    # Index from 3 in order to skip promoted offers\n",
    "    offer_links = []\n",
    "    for offer in soup.find_all(class_='offer-item-details')[3:]:\n",
    "        offer_links.append(offer.find('a').attrs['href'])\n",
    "        \n",
    "    return offer_links"
   ]
  },
  {
   "cell_type": "code",
   "execution_count": 3,
   "metadata": {
    "scrolled": true
   },
   "outputs": [],
   "source": [
    "# Find data in single offer's page and return as a json\n",
    "\n",
    "def process_offer_link(link):\n",
    "    \n",
    "    # Get full html page\n",
    "    offer_response = requests.get(link)\n",
    "    # Convert to soup\n",
    "    offer_soup = BeautifulSoup(offer_response.text, 'html.parser')\n",
    "    \n",
    "    # Find interesting data\n",
    "    apartament_data = json.loads(offer_soup.find(id=\"server-app-state\").text)['initialProps']['data']['advert']\n",
    "    \n",
    "    return apartament_data"
   ]
  },
  {
   "cell_type": "code",
   "execution_count": 4,
   "metadata": {
    "scrolled": true
   },
   "outputs": [],
   "source": [
    "# Extract relevant data from json\n",
    "\n",
    "def collect_data_from_json(apartament_data):\n",
    "    \n",
    "    # Initiate empty dict\n",
    "    parsed_data = dict()\n",
    "    \n",
    "    # Price\n",
    "    parsed_data['Cena'] = apartament_data['price']['value']\n",
    "    \n",
    "    # Basic infos\n",
    "    for factor in apartament_data['characteristics']:\n",
    "        parsed_data[factor['label']] = factor['value_translated']\n",
    "    \n",
    "    # Date of last edit\n",
    "    parsed_data['Data ogłoszenia'] = apartament_data['dateModified']\n",
    "    \n",
    "    # Adres\n",
    "    parsed_data['Adres'] = apartament_data['location']['address']\n",
    "    \n",
    "    # Geolocation\n",
    "    latitude = apartament_data['location']['coordinates']['latitude']\n",
    "    longitude = apartament_data['location']['coordinates']['longitude']\n",
    "    radius = apartament_data['location']['coordinates']['radius']\n",
    "    parsed_data['Lokalizacja'] = Point(latitude, longitude) if radius == 0 else np.nan\n",
    "    #print(json.dumps(apartament_data['location'], indent=4, sort_keys=True))\n",
    "    \n",
    "    # Links to small photos\n",
    "    photos = [i['thumbnail'] for i in apartament_data['photos']]\n",
    "    \n",
    "    return parsed_data, photos"
   ]
  },
  {
   "cell_type": "markdown",
   "metadata": {},
   "source": [
    "# Now lets get to scrap!\n",
    "## `Skip these steps if you want to use pickle files for apartament data`"
   ]
  },
  {
   "cell_type": "code",
   "execution_count": 24,
   "metadata": {
    "scrolled": true
   },
   "outputs": [],
   "source": [
    "response = requests.get('https://www.otodom.pl/wynajem/mieszkanie/warszawa/?search%5Bfilter_float_price%3Ato%5D=3000&search%5Bfilter_enum_rooms_num%5D%5B0%5D=2&search%5Bdescription%5D=1&search%5Bcity_id%5D=26&nrAdsPerPage=72')"
   ]
  },
  {
   "cell_type": "code",
   "execution_count": 70,
   "metadata": {
    "scrolled": true
   },
   "outputs": [],
   "source": [
    "offer_links = generate_links(response)\n",
    "for link in offer_links:\n",
    "    pass\n",
    "    #print(link)"
   ]
  },
  {
   "cell_type": "code",
   "execution_count": 29,
   "metadata": {
    "scrolled": true
   },
   "outputs": [
    {
     "name": "stdout",
     "output_type": "stream",
     "text": [
      "Processed link number 0\n",
      "Processed link number 1\n",
      "Processed link number 2\n",
      "Processed link number 3\n",
      "Processed link number 4\n",
      "Processed link number 5\n",
      "Processed link number 6\n",
      "Processed link number 7\n",
      "Processed link number 8\n",
      "Processed link number 9\n",
      "Processed link number 10\n",
      "Processed link number 11\n",
      "Processed link number 12\n",
      "Processed link number 13\n",
      "Processed link number 14\n",
      "Processed link number 15\n",
      "Processed link number 16\n",
      "Processed link number 17\n",
      "Processed link number 18\n",
      "Processed link number 19\n",
      "Processed link number 20\n",
      "Processed link number 21\n",
      "Processed link number 22\n",
      "Processed link number 23\n",
      "Processed link number 24\n",
      "Processed link number 25\n",
      "Processed link number 26\n",
      "Processed link number 27\n",
      "Processed link number 28\n",
      "Processed link number 29\n",
      "Processed link number 30\n",
      "Processed link number 31\n",
      "Processed link number 32\n",
      "Processed link number 33\n",
      "Processed link number 34\n",
      "Processed link number 35\n",
      "Processed link number 36\n",
      "Processed link number 37\n",
      "Processed link number 38\n",
      "Processed link number 39\n",
      "Processed link number 40\n",
      "Processed link number 41\n",
      "Processed link number 42\n",
      "Processed link number 43\n",
      "Processed link number 44\n",
      "Processed link number 45\n",
      "Processed link number 46\n",
      "Processed link number 47\n",
      "Processed link number 48\n",
      "Processed link number 49\n",
      "Processed link number 50\n",
      "Processed link number 51\n",
      "Processed link number 52\n",
      "Processed link number 53\n",
      "Processed link number 54\n",
      "Processed link number 55\n",
      "Processed link number 56\n",
      "Processed link number 57\n",
      "Processed link number 58\n",
      "Processed link number 59\n",
      "Processed link number 60\n",
      "Processed link number 61\n",
      "Processed link number 62\n",
      "Processed link number 63\n",
      "Processed link number 64\n",
      "Processed link number 65\n",
      "Processed link number 66\n",
      "Processed link number 67\n",
      "Processed link number 68\n",
      "Processed link number 69\n",
      "Processed link number 70\n",
      "Processed link number 71\n"
     ]
    }
   ],
   "source": [
    "# In order to not overload the server, let's wait 2 sec before processing the next link\n",
    "apartaments_data = []\n",
    "for i, link in enumerate(offer_links):\n",
    "    apartaments_data.append(process_offer_link(link))\n",
    "    print(\"Processed link number {}\".format(i))\n",
    "    time.sleep(2)"
   ]
  },
  {
   "cell_type": "code",
   "execution_count": 30,
   "metadata": {},
   "outputs": [],
   "source": [
    "# Dump `apartaments_data` and `offer_links` to pickles\n",
    "\n",
    "with open('apartaments_data.pkl', 'wb') as f:\n",
    "    pickle.dump(apartaments_data, f)\n",
    "with open('offer_links.pkl', 'wb') as f:\n",
    "    pickle.dump(offer_links, f)"
   ]
  },
  {
   "cell_type": "markdown",
   "metadata": {},
   "source": [
    "# Load pickle files\n",
    "## `Start here if you want to use pickle files for aparatament_data`"
   ]
  },
  {
   "cell_type": "code",
   "execution_count": 71,
   "metadata": {},
   "outputs": [],
   "source": [
    "with open('apartaments_data.pkl', 'rb') as f:\n",
    "    apartaments_data = pickle.load(f) \n",
    "with open('offer_links.pkl', 'rb') as f:\n",
    "    offer_links = pickle.load(f)"
   ]
  },
  {
   "cell_type": "code",
   "execution_count": 72,
   "metadata": {
    "scrolled": true
   },
   "outputs": [],
   "source": [
    "df_list = []\n",
    "photos_list = []\n",
    "for apartament_data in apartaments_data:\n",
    "    \n",
    "    parsed_data, photos = collect_data_from_json(apartament_data)\n",
    "    \n",
    "    photos_list.append(photos)\n",
    "\n",
    "    # Append features data to the list of DataFrames\n",
    "    columns = list(parsed_data.keys())\n",
    "    rows = list(parsed_data.values())\n",
    "    df_list.append(pd.DataFrame([rows], columns=columns))"
   ]
  },
  {
   "cell_type": "code",
   "execution_count": 73,
   "metadata": {},
   "outputs": [
    {
     "data": {
      "text/html": [
       "<div>\n",
       "<style scoped>\n",
       "    .dataframe tbody tr th:only-of-type {\n",
       "        vertical-align: middle;\n",
       "    }\n",
       "\n",
       "    .dataframe tbody tr th {\n",
       "        vertical-align: top;\n",
       "    }\n",
       "\n",
       "    .dataframe thead th {\n",
       "        text-align: right;\n",
       "    }\n",
       "</style>\n",
       "<table border=\"1\" class=\"dataframe\">\n",
       "  <thead>\n",
       "    <tr style=\"text-align: right;\">\n",
       "      <th></th>\n",
       "      <th>Cena</th>\n",
       "      <th>Czynsz - dodatkowo</th>\n",
       "      <th>Kaucja</th>\n",
       "      <th>Powierzchnia</th>\n",
       "      <th>Liczba pokoi</th>\n",
       "      <th>Rodzaj zabudowy</th>\n",
       "      <th>Piętro</th>\n",
       "      <th>Liczba pięter</th>\n",
       "      <th>Materiał budynku</th>\n",
       "      <th>Okna</th>\n",
       "      <th>Ogrzewanie</th>\n",
       "      <th>Rok budowy</th>\n",
       "      <th>Stan wykończenia</th>\n",
       "      <th>Dostępne od</th>\n",
       "      <th>Data ogłoszenia</th>\n",
       "      <th>Adres</th>\n",
       "      <th>Lokalizacja</th>\n",
       "    </tr>\n",
       "  </thead>\n",
       "  <tbody>\n",
       "    <tr>\n",
       "      <th>0</th>\n",
       "      <td>2200</td>\n",
       "      <td>1 zł</td>\n",
       "      <td>2 200 zł</td>\n",
       "      <td>45 m²</td>\n",
       "      <td>2</td>\n",
       "      <td>blok</td>\n",
       "      <td>1</td>\n",
       "      <td>6</td>\n",
       "      <td>cegła</td>\n",
       "      <td>drewniane</td>\n",
       "      <td>miejskie</td>\n",
       "      <td>2001</td>\n",
       "      <td>do zamieszkania</td>\n",
       "      <td>2018-12-01</td>\n",
       "      <td>2019-12-23 23:56:40</td>\n",
       "      <td>Warszawa, Ursus, Skorosze, Chełmońskiego 2</td>\n",
       "      <td>POINT (52.1923861 20.8999832)</td>\n",
       "    </tr>\n",
       "    <tr>\n",
       "      <th>1</th>\n",
       "      <td>2600</td>\n",
       "      <td>NaN</td>\n",
       "      <td>2 600 zł</td>\n",
       "      <td>42 m²</td>\n",
       "      <td>2</td>\n",
       "      <td>apartamentowiec</td>\n",
       "      <td>6</td>\n",
       "      <td>13</td>\n",
       "      <td>cegła</td>\n",
       "      <td>plastikowe</td>\n",
       "      <td>miejskie</td>\n",
       "      <td>2017</td>\n",
       "      <td>NaN</td>\n",
       "      <td>NaN</td>\n",
       "      <td>2019-12-23 23:46:01</td>\n",
       "      <td>Warszawa, Wola, Mirów, Pereca</td>\n",
       "      <td>POINT (52.2336971 20.9940979)</td>\n",
       "    </tr>\n",
       "    <tr>\n",
       "      <th>2</th>\n",
       "      <td>2600</td>\n",
       "      <td>1 zł</td>\n",
       "      <td>2 600 zł</td>\n",
       "      <td>40 m²</td>\n",
       "      <td>2</td>\n",
       "      <td>blok</td>\n",
       "      <td>6</td>\n",
       "      <td>11</td>\n",
       "      <td>wielka płyta</td>\n",
       "      <td>plastikowe</td>\n",
       "      <td>miejskie</td>\n",
       "      <td>1970</td>\n",
       "      <td>do zamieszkania</td>\n",
       "      <td>2019-12-31</td>\n",
       "      <td>2019-12-23 23:31:01</td>\n",
       "      <td>Warszawa, Wola, ul. Sienna 66</td>\n",
       "      <td>POINT (52.2308245 20.9964303)</td>\n",
       "    </tr>\n",
       "    <tr>\n",
       "      <th>3</th>\n",
       "      <td>2100</td>\n",
       "      <td>500 zł</td>\n",
       "      <td>2 100 zł</td>\n",
       "      <td>33 m²</td>\n",
       "      <td>2</td>\n",
       "      <td>blok</td>\n",
       "      <td>3</td>\n",
       "      <td>8</td>\n",
       "      <td>NaN</td>\n",
       "      <td>NaN</td>\n",
       "      <td>miejskie</td>\n",
       "      <td>2019</td>\n",
       "      <td>do zamieszkania</td>\n",
       "      <td>NaN</td>\n",
       "      <td>2019-12-23 23:27:56</td>\n",
       "      <td>Warszawa, Praga-Północ, ul. Markowska</td>\n",
       "      <td>POINT (52.25187321237169 21.04533585291748)</td>\n",
       "    </tr>\n",
       "    <tr>\n",
       "      <th>4</th>\n",
       "      <td>2400</td>\n",
       "      <td>1 zł</td>\n",
       "      <td>2 400 zł</td>\n",
       "      <td>38 m²</td>\n",
       "      <td>2</td>\n",
       "      <td>blok</td>\n",
       "      <td>2</td>\n",
       "      <td>NaN</td>\n",
       "      <td>pustak</td>\n",
       "      <td>plastikowe</td>\n",
       "      <td>miejskie</td>\n",
       "      <td>NaN</td>\n",
       "      <td>do zamieszkania</td>\n",
       "      <td>2019-12-31</td>\n",
       "      <td>2019-12-23 23:15:37</td>\n",
       "      <td>Warszawa, Targówek, ul. Poborzańska 39</td>\n",
       "      <td>POINT (52.29063619316574 21.03143987940674)</td>\n",
       "    </tr>\n",
       "  </tbody>\n",
       "</table>\n",
       "</div>"
      ],
      "text/plain": [
       "   Cena Czynsz - dodatkowo    Kaucja Powierzchnia Liczba pokoi  \\\n",
       "0  2200               1 zł  2 200 zł        45 m²            2   \n",
       "1  2600                NaN  2 600 zł        42 m²            2   \n",
       "2  2600               1 zł  2 600 zł        40 m²            2   \n",
       "3  2100             500 zł  2 100 zł        33 m²            2   \n",
       "4  2400               1 zł  2 400 zł        38 m²            2   \n",
       "\n",
       "   Rodzaj zabudowy Piętro Liczba pięter Materiał budynku        Okna  \\\n",
       "0             blok      1             6            cegła   drewniane   \n",
       "1  apartamentowiec      6            13            cegła  plastikowe   \n",
       "2             blok      6            11     wielka płyta  plastikowe   \n",
       "3             blok      3             8              NaN         NaN   \n",
       "4             blok      2           NaN           pustak  plastikowe   \n",
       "\n",
       "  Ogrzewanie Rok budowy Stan wykończenia Dostępne od      Data ogłoszenia  \\\n",
       "0   miejskie       2001  do zamieszkania  2018-12-01  2019-12-23 23:56:40   \n",
       "1   miejskie       2017              NaN         NaN  2019-12-23 23:46:01   \n",
       "2   miejskie       1970  do zamieszkania  2019-12-31  2019-12-23 23:31:01   \n",
       "3   miejskie       2019  do zamieszkania         NaN  2019-12-23 23:27:56   \n",
       "4   miejskie        NaN  do zamieszkania  2019-12-31  2019-12-23 23:15:37   \n",
       "\n",
       "                                        Adres  \\\n",
       "0  Warszawa, Ursus, Skorosze, Chełmońskiego 2   \n",
       "1               Warszawa, Wola, Mirów, Pereca   \n",
       "2               Warszawa, Wola, ul. Sienna 66   \n",
       "3       Warszawa, Praga-Północ, ul. Markowska   \n",
       "4      Warszawa, Targówek, ul. Poborzańska 39   \n",
       "\n",
       "                                   Lokalizacja  \n",
       "0                POINT (52.1923861 20.8999832)  \n",
       "1                POINT (52.2336971 20.9940979)  \n",
       "2                POINT (52.2308245 20.9964303)  \n",
       "3  POINT (52.25187321237169 21.04533585291748)  \n",
       "4  POINT (52.29063619316574 21.03143987940674)  "
      ]
     },
     "execution_count": 73,
     "metadata": {},
     "output_type": "execute_result"
    }
   ],
   "source": [
    "# Concatonate all DataFrames in desired way\n",
    "\n",
    "df = pd.concat(df_list, sort=False).reset_index(drop=True)\n",
    "df.head()"
   ]
  },
  {
   "cell_type": "code",
   "execution_count": 74,
   "metadata": {
    "scrolled": true
   },
   "outputs": [
    {
     "data": {
      "text/plain": [
       "'https://apollo-ireland.akamaized.net/v1/files/eyJmbiI6Ind5d3VhOHQ0ZGMwZTItQVBMIiwidyI6W3siZm4iOiJqMWozbzEzbTZiZ24xLUFQTCIsInMiOiIxNCIsInAiOiIxMCwtMTAiLCJhIjoiMCJ9XX0.AWatftNwFutPZlmSYXl5qhRcIlfQFwK9ZuqrdBPBnbU/image;s=184x138;q=80'"
      ]
     },
     "execution_count": 74,
     "metadata": {},
     "output_type": "execute_result"
    }
   ],
   "source": [
    "photos_list[0][0]"
   ]
  },
  {
   "cell_type": "markdown",
   "metadata": {},
   "source": [
    "# Data collecting completed. Now start doing something smart"
   ]
  },
  {
   "cell_type": "markdown",
   "metadata": {},
   "source": [
    "## First add `price` to `rental price` in order to get `real price`"
   ]
  },
  {
   "cell_type": "code",
   "execution_count": 75,
   "metadata": {},
   "outputs": [],
   "source": [
    "# Check if value is Nan or not\n",
    "def notNan(a):\n",
    "    return a == a"
   ]
  },
  {
   "cell_type": "code",
   "execution_count": 76,
   "metadata": {},
   "outputs": [],
   "source": [
    "def real_price(row):\n",
    "    if notNan(row['Czynsz - dodatkowo']):\n",
    "        return int(row['Cena']) + int(''.join(c for c in row['Czynsz - dodatkowo'] if c.isdigit()))\n",
    "    else:\n",
    "        return int(row['Cena'])"
   ]
  },
  {
   "cell_type": "code",
   "execution_count": 77,
   "metadata": {},
   "outputs": [
    {
     "data": {
      "text/html": [
       "<div>\n",
       "<style scoped>\n",
       "    .dataframe tbody tr th:only-of-type {\n",
       "        vertical-align: middle;\n",
       "    }\n",
       "\n",
       "    .dataframe tbody tr th {\n",
       "        vertical-align: top;\n",
       "    }\n",
       "\n",
       "    .dataframe thead th {\n",
       "        text-align: right;\n",
       "    }\n",
       "</style>\n",
       "<table border=\"1\" class=\"dataframe\">\n",
       "  <thead>\n",
       "    <tr style=\"text-align: right;\">\n",
       "      <th></th>\n",
       "      <th>Cena</th>\n",
       "      <th>Czynsz - dodatkowo</th>\n",
       "      <th>Cena rzeczywista</th>\n",
       "      <th>Kaucja</th>\n",
       "      <th>Powierzchnia</th>\n",
       "      <th>Liczba pokoi</th>\n",
       "      <th>Rodzaj zabudowy</th>\n",
       "      <th>Piętro</th>\n",
       "      <th>Liczba pięter</th>\n",
       "      <th>Materiał budynku</th>\n",
       "      <th>Okna</th>\n",
       "      <th>Ogrzewanie</th>\n",
       "      <th>Rok budowy</th>\n",
       "      <th>Stan wykończenia</th>\n",
       "      <th>Dostępne od</th>\n",
       "      <th>Data ogłoszenia</th>\n",
       "      <th>Adres</th>\n",
       "      <th>Lokalizacja</th>\n",
       "    </tr>\n",
       "  </thead>\n",
       "  <tbody>\n",
       "    <tr>\n",
       "      <th>0</th>\n",
       "      <td>2200</td>\n",
       "      <td>1 zł</td>\n",
       "      <td>2201</td>\n",
       "      <td>2 200 zł</td>\n",
       "      <td>45 m²</td>\n",
       "      <td>2</td>\n",
       "      <td>blok</td>\n",
       "      <td>1</td>\n",
       "      <td>6</td>\n",
       "      <td>cegła</td>\n",
       "      <td>drewniane</td>\n",
       "      <td>miejskie</td>\n",
       "      <td>2001</td>\n",
       "      <td>do zamieszkania</td>\n",
       "      <td>2018-12-01</td>\n",
       "      <td>2019-12-23 23:56:40</td>\n",
       "      <td>Warszawa, Ursus, Skorosze, Chełmońskiego 2</td>\n",
       "      <td>POINT (52.1923861 20.8999832)</td>\n",
       "    </tr>\n",
       "    <tr>\n",
       "      <th>1</th>\n",
       "      <td>2600</td>\n",
       "      <td>NaN</td>\n",
       "      <td>2600</td>\n",
       "      <td>2 600 zł</td>\n",
       "      <td>42 m²</td>\n",
       "      <td>2</td>\n",
       "      <td>apartamentowiec</td>\n",
       "      <td>6</td>\n",
       "      <td>13</td>\n",
       "      <td>cegła</td>\n",
       "      <td>plastikowe</td>\n",
       "      <td>miejskie</td>\n",
       "      <td>2017</td>\n",
       "      <td>NaN</td>\n",
       "      <td>NaN</td>\n",
       "      <td>2019-12-23 23:46:01</td>\n",
       "      <td>Warszawa, Wola, Mirów, Pereca</td>\n",
       "      <td>POINT (52.2336971 20.9940979)</td>\n",
       "    </tr>\n",
       "    <tr>\n",
       "      <th>2</th>\n",
       "      <td>2600</td>\n",
       "      <td>1 zł</td>\n",
       "      <td>2601</td>\n",
       "      <td>2 600 zł</td>\n",
       "      <td>40 m²</td>\n",
       "      <td>2</td>\n",
       "      <td>blok</td>\n",
       "      <td>6</td>\n",
       "      <td>11</td>\n",
       "      <td>wielka płyta</td>\n",
       "      <td>plastikowe</td>\n",
       "      <td>miejskie</td>\n",
       "      <td>1970</td>\n",
       "      <td>do zamieszkania</td>\n",
       "      <td>2019-12-31</td>\n",
       "      <td>2019-12-23 23:31:01</td>\n",
       "      <td>Warszawa, Wola, ul. Sienna 66</td>\n",
       "      <td>POINT (52.2308245 20.9964303)</td>\n",
       "    </tr>\n",
       "    <tr>\n",
       "      <th>3</th>\n",
       "      <td>2100</td>\n",
       "      <td>500 zł</td>\n",
       "      <td>2600</td>\n",
       "      <td>2 100 zł</td>\n",
       "      <td>33 m²</td>\n",
       "      <td>2</td>\n",
       "      <td>blok</td>\n",
       "      <td>3</td>\n",
       "      <td>8</td>\n",
       "      <td>NaN</td>\n",
       "      <td>NaN</td>\n",
       "      <td>miejskie</td>\n",
       "      <td>2019</td>\n",
       "      <td>do zamieszkania</td>\n",
       "      <td>NaN</td>\n",
       "      <td>2019-12-23 23:27:56</td>\n",
       "      <td>Warszawa, Praga-Północ, ul. Markowska</td>\n",
       "      <td>POINT (52.25187321237169 21.04533585291748)</td>\n",
       "    </tr>\n",
       "    <tr>\n",
       "      <th>4</th>\n",
       "      <td>2400</td>\n",
       "      <td>1 zł</td>\n",
       "      <td>2401</td>\n",
       "      <td>2 400 zł</td>\n",
       "      <td>38 m²</td>\n",
       "      <td>2</td>\n",
       "      <td>blok</td>\n",
       "      <td>2</td>\n",
       "      <td>NaN</td>\n",
       "      <td>pustak</td>\n",
       "      <td>plastikowe</td>\n",
       "      <td>miejskie</td>\n",
       "      <td>NaN</td>\n",
       "      <td>do zamieszkania</td>\n",
       "      <td>2019-12-31</td>\n",
       "      <td>2019-12-23 23:15:37</td>\n",
       "      <td>Warszawa, Targówek, ul. Poborzańska 39</td>\n",
       "      <td>POINT (52.29063619316574 21.03143987940674)</td>\n",
       "    </tr>\n",
       "  </tbody>\n",
       "</table>\n",
       "</div>"
      ],
      "text/plain": [
       "   Cena Czynsz - dodatkowo  Cena rzeczywista    Kaucja Powierzchnia  \\\n",
       "0  2200               1 zł              2201  2 200 zł        45 m²   \n",
       "1  2600                NaN              2600  2 600 zł        42 m²   \n",
       "2  2600               1 zł              2601  2 600 zł        40 m²   \n",
       "3  2100             500 zł              2600  2 100 zł        33 m²   \n",
       "4  2400               1 zł              2401  2 400 zł        38 m²   \n",
       "\n",
       "  Liczba pokoi  Rodzaj zabudowy Piętro Liczba pięter Materiał budynku  \\\n",
       "0            2             blok      1             6            cegła   \n",
       "1            2  apartamentowiec      6            13            cegła   \n",
       "2            2             blok      6            11     wielka płyta   \n",
       "3            2             blok      3             8              NaN   \n",
       "4            2             blok      2           NaN           pustak   \n",
       "\n",
       "         Okna Ogrzewanie Rok budowy Stan wykończenia Dostępne od  \\\n",
       "0   drewniane   miejskie       2001  do zamieszkania  2018-12-01   \n",
       "1  plastikowe   miejskie       2017              NaN         NaN   \n",
       "2  plastikowe   miejskie       1970  do zamieszkania  2019-12-31   \n",
       "3         NaN   miejskie       2019  do zamieszkania         NaN   \n",
       "4  plastikowe   miejskie        NaN  do zamieszkania  2019-12-31   \n",
       "\n",
       "       Data ogłoszenia                                       Adres  \\\n",
       "0  2019-12-23 23:56:40  Warszawa, Ursus, Skorosze, Chełmońskiego 2   \n",
       "1  2019-12-23 23:46:01               Warszawa, Wola, Mirów, Pereca   \n",
       "2  2019-12-23 23:31:01               Warszawa, Wola, ul. Sienna 66   \n",
       "3  2019-12-23 23:27:56       Warszawa, Praga-Północ, ul. Markowska   \n",
       "4  2019-12-23 23:15:37      Warszawa, Targówek, ul. Poborzańska 39   \n",
       "\n",
       "                                   Lokalizacja  \n",
       "0                POINT (52.1923861 20.8999832)  \n",
       "1                POINT (52.2336971 20.9940979)  \n",
       "2                POINT (52.2308245 20.9964303)  \n",
       "3  POINT (52.25187321237169 21.04533585291748)  \n",
       "4  POINT (52.29063619316574 21.03143987940674)  "
      ]
     },
     "execution_count": 77,
     "metadata": {},
     "output_type": "execute_result"
    }
   ],
   "source": [
    "if 'Cena rzeczywista' in df:\n",
    "    df = df.drop(columns = 'Cena rzeczywista')\n",
    "df.insert(2, \"Cena rzeczywista\", df.apply(real_price, axis=1))\n",
    "df.head()"
   ]
  },
  {
   "cell_type": "markdown",
   "metadata": {},
   "source": [
    "# Import interactive maps module and geoencoding library"
   ]
  },
  {
   "cell_type": "code",
   "execution_count": 78,
   "metadata": {
    "scrolled": true
   },
   "outputs": [],
   "source": [
    "import geopandas as gpd\n",
    "from geopandas.tools import geocode\n",
    "import folium\n",
    "from folium import Choropleth, Circle, Marker\n",
    "from folium.plugins import HeatMap, MarkerCluster"
   ]
  },
  {
   "cell_type": "code",
   "execution_count": 79,
   "metadata": {
    "scrolled": true
   },
   "outputs": [],
   "source": [
    "# Function for displaying the map\n",
    "def embed_map(m, file_name):\n",
    "    from IPython.display import IFrame\n",
    "    m.save(file_name)\n",
    "    return IFrame(file_name, width='100%', height='500px')"
   ]
  },
  {
   "cell_type": "code",
   "execution_count": 80,
   "metadata": {
    "scrolled": true
   },
   "outputs": [],
   "source": [
    "# Function for encoding geolocation from name\n",
    "def encode(name):\n",
    "    #print(\"Encoding '{}'\".format(name))\n",
    "    try:\n",
    "        return geocode(name, provider='nominatim').geometry\n",
    "    except Exception as err:\n",
    "        print(\"Error while encoding '{}'!\".format(name))\n",
    "        return None"
   ]
  },
  {
   "cell_type": "markdown",
   "metadata": {},
   "source": [
    "# Encode locations of metro stations\n",
    "## `Or use pickle file for that`"
   ]
  },
  {
   "cell_type": "code",
   "execution_count": 81,
   "metadata": {
    "scrolled": false
   },
   "outputs": [],
   "source": [
    "# Get to the page containing a table with names of all metro stations in Warsaw\n",
    "response = requests.get('https://pl.wikipedia.org/wiki/Lista_stacji_metra_w_Warszawie')\n",
    "soup = BeautifulSoup(response.text, 'html.parser')"
   ]
  },
  {
   "cell_type": "code",
   "execution_count": 82,
   "metadata": {},
   "outputs": [],
   "source": [
    "# Load from pickle if already encoded\n",
    "if os.path.isfile(\"metro.pkl\"):\n",
    "    with open('metro.pkl', 'rb') as f:\n",
    "        metro = pickle.load(f)\n",
    "else:\n",
    "    # Encode locations of metro stations and create a DataFrame\n",
    "    metro = pd.DataFrame(columns = ['Nazwa', 'Lokalizacja'])\n",
    "\n",
    "    for row in soup.find(\"table\").find_all(\"tr\")[1:-1]:\n",
    "        name = (\"Metro \" + row.find_all(\"td\")[1].text).replace('\\n','')\n",
    "        loc = encode(name + \" Warsaw\")\n",
    "        if loc is not None:\n",
    "            metro = metro.append({'Nazwa':name, 'Lokalizacja':Point(loc.y, loc.x)}, ignore_index=True)\n",
    "\n",
    "        # Dump to pickle\n",
    "        with open('metro.pkl', 'wb') as f:\n",
    "            pickle.dump(metro, f)"
   ]
  },
  {
   "cell_type": "markdown",
   "metadata": {},
   "source": [
    "# Plot locations of metro stations \n",
    "There are few errors (`Metro Ratusz Arsenał` and `Metro Ursynów` weren't properly encoded)"
   ]
  },
  {
   "cell_type": "code",
   "execution_count": 83,
   "metadata": {},
   "outputs": [
    {
     "data": {
      "text/html": [
       "\n",
       "        <iframe\n",
       "            width=\"100%\"\n",
       "            height=\"500px\"\n",
       "            src=\"m_1.html\"\n",
       "            frameborder=\"0\"\n",
       "            allowfullscreen\n",
       "        ></iframe>\n",
       "        "
      ],
      "text/plain": [
       "<IPython.lib.display.IFrame at 0x7fec9d6c9fd0>"
      ]
     },
     "execution_count": 83,
     "metadata": {},
     "output_type": "execute_result"
    }
   ],
   "source": [
    "# Create a map\n",
    "m_1 = folium.Map(location=[52.2323,21.0000], tiles='cartodbpositron', zoom_start=11)\n",
    "\n",
    "# Add points to the map\n",
    "for idx, station in metro.iterrows():\n",
    "        Marker((station['Lokalizacja'].x, station['Lokalizacja'].y), popup=station['Nazwa']).add_to(m_1)\n",
    "\n",
    "\n",
    "# Display the map\n",
    "embed_map(m_1, 'm_1.html')"
   ]
  },
  {
   "cell_type": "markdown",
   "metadata": {},
   "source": [
    "# Plot locations of houses"
   ]
  },
  {
   "cell_type": "code",
   "execution_count": 84,
   "metadata": {},
   "outputs": [
    {
     "data": {
      "text/html": [
       "\n",
       "        <iframe\n",
       "            width=\"100%\"\n",
       "            height=\"500px\"\n",
       "            src=\"m_2.html\"\n",
       "            frameborder=\"0\"\n",
       "            allowfullscreen\n",
       "        ></iframe>\n",
       "        "
      ],
      "text/plain": [
       "<IPython.lib.display.IFrame at 0x7fec9d20d0f0>"
      ]
     },
     "execution_count": 84,
     "metadata": {},
     "output_type": "execute_result"
    }
   ],
   "source": [
    "# Create a map\n",
    "m_2 = folium.Map(location=[52.2323,21.0000], tiles='cartodbpositron', zoom_start=11)\n",
    "\n",
    "# Add points to the map\n",
    "for idx, house in df.iterrows():\n",
    "    if notNan(house['Lokalizacja']):\n",
    "        Marker((house['Lokalizacja'].x, house['Lokalizacja'].y), popup=idx).add_to(m_2)\n",
    "\n",
    "# Display the map\n",
    "embed_map(m_2, 'm_2.html')"
   ]
  },
  {
   "cell_type": "markdown",
   "metadata": {},
   "source": [
    "# Define functions for calculating distance on Earth"
   ]
  },
  {
   "cell_type": "code",
   "execution_count": 85,
   "metadata": {},
   "outputs": [],
   "source": [
    "# Using geopy\n",
    "import geopy.distance\n",
    "\n",
    "def dist(a, b):\n",
    "    return geopy.distance.geodesic((a.x, a.y), (b.x, b.y)).km"
   ]
  },
  {
   "cell_type": "code",
   "execution_count": 86,
   "metadata": {},
   "outputs": [],
   "source": [
    "# Using geopandas\n",
    "def dist_2(a, b):\n",
    "    a = gpd.GeoSeries(Point(a.y, a.x), crs=({\"init\":\"epsg:4326\"})).to_crs(epsg=3310)\n",
    "    b = gpd.GeoSeries(Point(b.y, b.x), crs=({\"init\":\"epsg:4326\"})).to_crs(epsg=3310)\n",
    "    return a.distance(b) / 1000"
   ]
  },
  {
   "cell_type": "markdown",
   "metadata": {},
   "source": [
    "# Find distance to nearest metro station for all valid houses"
   ]
  },
  {
   "cell_type": "code",
   "execution_count": 89,
   "metadata": {},
   "outputs": [],
   "source": [
    "output = []\n",
    "\n",
    "for idx, house in df.iterrows():\n",
    "    if notNan(house['Lokalizacja']):\n",
    "        list_ = [dist(house['Lokalizacja'], station['Lokalizacja']) for jdx, station in metro.iterrows()]\n",
    "        output.append((offer_links[idx], house['Cena rzeczywista'], round(min(list_),2), metro.iloc[np.argmin(list_)]['Nazwa']))\n",
    "                \n",
    "# Display as an offer, sorted\n",
    "for a,b,c,d in sorted(output, key=lambda tup: tup[1]):\n",
    "    pass\n",
    "    #print(\"Oferta: {}\\n, cena: {} zł, {} km od stacji {}\\n\".format(a,b,c,d))"
   ]
  },
  {
   "cell_type": "code",
   "execution_count": null,
   "metadata": {},
   "outputs": [],
   "source": []
  }
 ],
 "metadata": {
  "kernelspec": {
   "display_name": "Python 3",
   "language": "python",
   "name": "python3"
  },
  "language_info": {
   "codemirror_mode": {
    "name": "ipython",
    "version": 3
   },
   "file_extension": ".py",
   "mimetype": "text/x-python",
   "name": "python",
   "nbconvert_exporter": "python",
   "pygments_lexer": "ipython3",
   "version": "3.6.9"
  }
 },
 "nbformat": 4,
 "nbformat_minor": 2
}
