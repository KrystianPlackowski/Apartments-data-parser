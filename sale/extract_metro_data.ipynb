{
 "cells": [
  {
   "cell_type": "code",
   "execution_count": 1,
   "metadata": {},
   "outputs": [],
   "source": [
    "import os\n",
    "import requests\n",
    "from bs4 import BeautifulSoup\n",
    "import pandas as pd\n",
    "from shapely.geometry import Point"
   ]
  },
  {
   "cell_type": "markdown",
   "metadata": {},
   "source": [
    "# Import interactive maps module and geoencoding library"
   ]
  },
  {
   "cell_type": "code",
   "execution_count": 2,
   "metadata": {},
   "outputs": [],
   "source": [
    "from geopandas.tools import geocode\n",
    "import folium\n",
    "from folium import Marker"
   ]
  },
  {
   "cell_type": "code",
   "execution_count": 3,
   "metadata": {},
   "outputs": [],
   "source": [
    "# Function for displaying the map\n",
    "\n",
    "def embed_map(m, file_name):\n",
    "    from IPython.display import IFrame\n",
    "    m.save(file_name)\n",
    "    return IFrame(file_name, width='100%', height='500px')"
   ]
  },
  {
   "cell_type": "code",
   "execution_count": 4,
   "metadata": {},
   "outputs": [],
   "source": [
    "# Function for encoding geolocation from name\n",
    "\n",
    "def encode(name):\n",
    "    print(\"Encoding '{}'\".format(name))\n",
    "    try:\n",
    "        return geocode(name, provider='nominatim').geometry\n",
    "    except Exception as err:\n",
    "        print(\"Error while encoding '{}'!\".format(name))\n",
    "        return None"
   ]
  },
  {
   "cell_type": "markdown",
   "metadata": {},
   "source": [
    "# Encode locations of metro stations"
   ]
  },
  {
   "cell_type": "code",
   "execution_count": 5,
   "metadata": {},
   "outputs": [],
   "source": [
    "# Get to the page containing a table with names of all metro stations in Warsaw\n",
    "\n",
    "response = requests.get('https://pl.wikipedia.org/wiki/Lista_stacji_metra_w_Warszawie')\n",
    "soup = BeautifulSoup(response.text, 'html.parser')"
   ]
  },
  {
   "cell_type": "code",
   "execution_count": 41,
   "metadata": {},
   "outputs": [
    {
     "name": "stdout",
     "output_type": "stream",
     "text": [
      "Encoding 'Metro Kabaty Warsaw'\n",
      "Encoding 'Metro Natolin Warsaw'\n",
      "Encoding 'Metro Imielin Warsaw'\n",
      "Encoding 'Metro Stokłosy Warsaw'\n",
      "Encoding 'Metro Ursynów Warsaw'\n",
      "Encoding 'Metro Służew Warsaw'\n",
      "Encoding 'Metro Wilanowska Warsaw'\n",
      "Encoding 'Metro Wierzbno Warsaw'\n",
      "Encoding 'Metro Racławicka Warsaw'\n",
      "Encoding 'Metro Pole Mokotowskie Warsaw'\n",
      "Encoding 'Metro Politechnika Warsaw'\n",
      "Encoding 'Metro Centrum Warsaw'\n",
      "Encoding 'Metro Świętokrzyska Warsaw'\n",
      "Encoding 'Metro Ratusz Arsenał Warsaw'\n",
      "Encoding 'Metro Dworzec Gdański Warsaw'\n",
      "Encoding 'Metro Plac Wilsona Warsaw'\n",
      "Encoding 'Metro Marymont Warsaw'\n",
      "Encoding 'Metro Słodowiec Warsaw'\n",
      "Encoding 'Metro Stare Bielany Warsaw'\n",
      "Encoding 'Metro Wawrzyszew Warsaw'\n",
      "Encoding 'Metro Młociny Warsaw'\n",
      "Encoding 'Metro Rondo Daszyńskiego Warsaw'\n",
      "Encoding 'Metro Rondo ONZ Warsaw'\n",
      "Encoding 'Metro Świętokrzyska Warsaw'\n",
      "Encoding 'Metro Nowy Świat-Uniwersytet Warsaw'\n",
      "Encoding 'Metro Centrum Nauki Kopernik Warsaw'\n",
      "Encoding 'Metro Stadion Narodowy Warsaw'\n",
      "Encoding 'Metro Dworzec Wileński Warsaw'\n",
      "Encoding 'Metro Szwedzka Warsaw'\n",
      "Encoding 'Metro Targówek Mieszkaniowy Warsaw'\n",
      "Encoding 'Metro Trocka Warsaw'\n"
     ]
    }
   ],
   "source": [
    "# Encode locations of metro stations and create a DataFrame\n",
    "\n",
    "df = pd.DataFrame(columns = ['Nazwa', 'φ', 'λ'])\n",
    "\n",
    "for row in soup.find(\"table\").find_all(\"tr\")[1:-1]:\n",
    "    name = (\"Metro \" + row.find_all(\"td\")[1].text).replace('\\n','')\n",
    "    loc = encode(name + \" Warsaw\")\n",
    "    if loc is not None:\n",
    "        df = df.append({'Nazwa':name, 'φ':float(loc.y), 'λ':float(loc.x)}, ignore_index=True)"
   ]
  },
  {
   "cell_type": "code",
   "execution_count": 42,
   "metadata": {},
   "outputs": [],
   "source": [
    "# Repair badly encoded values\n",
    "\n",
    "df.at[df[df['Nazwa'] == 'Metro Ratusz Arsenał'].index[0], 'φ'] = 52.2447\n",
    "df.at[df[df['Nazwa'] == 'Metro Ratusz Arsenał'].index[0], 'λ'] = 21.0005\n",
    "\n",
    "df.at[df[df['Nazwa'] == 'Metro Ursynów'].index[0], 'φ'] = 52.1619\n",
    "df.at[df[df['Nazwa'] == 'Metro Ursynów'].index[0], 'λ'] = 21.0278"
   ]
  },
  {
   "cell_type": "markdown",
   "metadata": {},
   "source": [
    "# Export to .csv to future analysis"
   ]
  },
  {
   "cell_type": "code",
   "execution_count": 44,
   "metadata": {},
   "outputs": [],
   "source": [
    "df.to_csv(\"metro.csv\", index=False)"
   ]
  },
  {
   "cell_type": "code",
   "execution_count": 45,
   "metadata": {},
   "outputs": [
    {
     "data": {
      "text/html": [
       "<div>\n",
       "<style scoped>\n",
       "    .dataframe tbody tr th:only-of-type {\n",
       "        vertical-align: middle;\n",
       "    }\n",
       "\n",
       "    .dataframe tbody tr th {\n",
       "        vertical-align: top;\n",
       "    }\n",
       "\n",
       "    .dataframe thead th {\n",
       "        text-align: right;\n",
       "    }\n",
       "</style>\n",
       "<table border=\"1\" class=\"dataframe\">\n",
       "  <thead>\n",
       "    <tr style=\"text-align: right;\">\n",
       "      <th></th>\n",
       "      <th>Nazwa</th>\n",
       "      <th>φ</th>\n",
       "      <th>λ</th>\n",
       "    </tr>\n",
       "  </thead>\n",
       "  <tbody>\n",
       "    <tr>\n",
       "      <th>0</th>\n",
       "      <td>Metro Kabaty</td>\n",
       "      <td>52.131047</td>\n",
       "      <td>21.065518</td>\n",
       "    </tr>\n",
       "    <tr>\n",
       "      <th>1</th>\n",
       "      <td>Metro Natolin</td>\n",
       "      <td>52.140341</td>\n",
       "      <td>21.056685</td>\n",
       "    </tr>\n",
       "    <tr>\n",
       "      <th>2</th>\n",
       "      <td>Metro Imielin</td>\n",
       "      <td>52.149295</td>\n",
       "      <td>21.045788</td>\n",
       "    </tr>\n",
       "    <tr>\n",
       "      <th>3</th>\n",
       "      <td>Metro Stokłosy</td>\n",
       "      <td>52.156834</td>\n",
       "      <td>21.033820</td>\n",
       "    </tr>\n",
       "    <tr>\n",
       "      <th>4</th>\n",
       "      <td>Metro Ursynów</td>\n",
       "      <td>52.161900</td>\n",
       "      <td>21.027800</td>\n",
       "    </tr>\n",
       "  </tbody>\n",
       "</table>\n",
       "</div>"
      ],
      "text/plain": [
       "            Nazwa          φ          λ\n",
       "0    Metro Kabaty  52.131047  21.065518\n",
       "1   Metro Natolin  52.140341  21.056685\n",
       "2   Metro Imielin  52.149295  21.045788\n",
       "3  Metro Stokłosy  52.156834  21.033820\n",
       "4   Metro Ursynów  52.161900  21.027800"
      ]
     },
     "execution_count": 45,
     "metadata": {},
     "output_type": "execute_result"
    }
   ],
   "source": [
    "df.head()"
   ]
  },
  {
   "cell_type": "markdown",
   "metadata": {},
   "source": [
    "# Plot locations of metro stations (as benchmark)\n",
    "There were few errors as `Metro Ratusz Arsenał` and `Metro Ursynów` weren't properly encoded"
   ]
  },
  {
   "cell_type": "code",
   "execution_count": 46,
   "metadata": {},
   "outputs": [
    {
     "data": {
      "text/html": [
       "\n",
       "        <iframe\n",
       "            width=\"100%\"\n",
       "            height=\"500px\"\n",
       "            src=\"maps/m_1.html\"\n",
       "            frameborder=\"0\"\n",
       "            allowfullscreen\n",
       "        ></iframe>\n",
       "        "
      ],
      "text/plain": [
       "<IPython.lib.display.IFrame at 0x7f12bb192ba8>"
      ]
     },
     "execution_count": 46,
     "metadata": {},
     "output_type": "execute_result"
    }
   ],
   "source": [
    "# Create a map\n",
    "m_1 = folium.Map(location=[52.2323,21.0000], tiles='cartodbpositron', zoom_start=11)\n",
    "\n",
    "# Add points to the map\n",
    "for idx, station in df.iterrows():\n",
    "    Marker((station['φ'], station['λ']), popup=station['Nazwa']).add_to(m_1)\n",
    "\n",
    "# Display the map\n",
    "if not os.path.isdir(\"maps\"):\n",
    "     os.mkdir(\"maps\")\n",
    "embed_map(m_1, 'maps/m_1.html')"
   ]
  },
  {
   "cell_type": "code",
   "execution_count": null,
   "metadata": {},
   "outputs": [],
   "source": []
  }
 ],
 "metadata": {
  "kernelspec": {
   "display_name": "Python 3",
   "language": "python",
   "name": "python3"
  },
  "language_info": {
   "codemirror_mode": {
    "name": "ipython",
    "version": 3
   },
   "file_extension": ".py",
   "mimetype": "text/x-python",
   "name": "python",
   "nbconvert_exporter": "python",
   "pygments_lexer": "ipython3",
   "version": "3.6.9"
  }
 },
 "nbformat": 4,
 "nbformat_minor": 2
}
