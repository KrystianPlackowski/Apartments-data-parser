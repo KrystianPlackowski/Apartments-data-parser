{
 "cells": [
  {
   "cell_type": "code",
   "execution_count": 1,
   "metadata": {},
   "outputs": [],
   "source": [
    "import pandas as pd\n",
    "import pickle"
   ]
  },
  {
   "cell_type": "markdown",
   "metadata": {},
   "source": [
    "# Load learned models from pickle"
   ]
  },
  {
   "cell_type": "code",
   "execution_count": 29,
   "metadata": {},
   "outputs": [],
   "source": [
    "with open('pickles/predict_rental_price.pkl', 'rb') as f:\n",
    "    regressor_rental = pickle.load(f) \n",
    "with open('pickles/predict_rental_price_scaler.pkl', 'rb') as f:\n",
    "    scaler_rental = pickle.load(f) \n",
    "    \n",
    "with open('pickles/predict_sale_price.pkl', 'rb') as f:\n",
    "    regressor_sale = pickle.load(f) \n",
    "with open('pickles/predict_sale_price_scaler.pkl', 'rb') as f:\n",
    "    scaler_sale = pickle.load(f) "
   ]
  },
  {
   "cell_type": "markdown",
   "metadata": {},
   "source": [
    "# Build functions capable to use trained model"
   ]
  },
  {
   "cell_type": "code",
   "execution_count": 30,
   "metadata": {},
   "outputs": [],
   "source": [
    "def predict_rental(test):\n",
    "    \n",
    "    test_ = scaler_rental.transform(test)\n",
    "    display(test)\n",
    "\n",
    "    print(\"For an apartment with area = {} m^2, {} room(s), build in {} and located at ({}, {}), \\npredicted rental price is {} zł.\".\n",
    "          format(test['Powierzchnia'].iloc[0], test['Liczba pokoi'].iloc[0], test['Rok budowy'].iloc[0]\n",
    "                 , test['φ'].iloc[0], test['λ'].iloc[0], round(regressor_rental.predict(test_)[0])))\n",
    "    \n",
    "    \n",
    "def predict_sale(test):\n",
    "\n",
    "    test_ = scaler_sale.transform(test)\n",
    "    display(test)\n",
    "\n",
    "    print(\"For an apartment with area = {} m^2, {} room(s), build in {} and located at ({}, {}), \\npredicted sale price is {} zł.\".\n",
    "          format(test['Powierzchnia'].iloc[0], test['Liczba pokoi'].iloc[0], test['Rok budowy'].iloc[0]\n",
    "                 , test['φ'].iloc[0], test['λ'].iloc[0], round(regressor_sale.predict(test_)[0])))"
   ]
  },
  {
   "cell_type": "markdown",
   "metadata": {},
   "source": [
    "# Test on some hand-typed data"
   ]
  },
  {
   "cell_type": "code",
   "execution_count": 31,
   "metadata": {},
   "outputs": [],
   "source": [
    "test_1 = pd.DataFrame([[45, 2, 52.197751, 20.964537, 2018, 25]], columns=['Powierzchnia', 'Liczba pokoi', 'φ', 'λ', 'Rok budowy', 'Czas dojazdu do centrum'])\n",
    "test_2 = pd.DataFrame([[68.80, 3, 52.147, 21.047, 1980, 29]], columns=['Powierzchnia', 'Liczba pokoi', 'φ', 'λ', 'Rok budowy', 'Czas dojazdu do centrum'])"
   ]
  },
  {
   "cell_type": "code",
   "execution_count": 32,
   "metadata": {},
   "outputs": [
    {
     "data": {
      "text/html": [
       "<div>\n",
       "<style scoped>\n",
       "    .dataframe tbody tr th:only-of-type {\n",
       "        vertical-align: middle;\n",
       "    }\n",
       "\n",
       "    .dataframe tbody tr th {\n",
       "        vertical-align: top;\n",
       "    }\n",
       "\n",
       "    .dataframe thead th {\n",
       "        text-align: right;\n",
       "    }\n",
       "</style>\n",
       "<table border=\"1\" class=\"dataframe\">\n",
       "  <thead>\n",
       "    <tr style=\"text-align: right;\">\n",
       "      <th></th>\n",
       "      <th>Powierzchnia</th>\n",
       "      <th>Liczba pokoi</th>\n",
       "      <th>φ</th>\n",
       "      <th>λ</th>\n",
       "      <th>Rok budowy</th>\n",
       "      <th>Czas dojazdu do centrum</th>\n",
       "    </tr>\n",
       "  </thead>\n",
       "  <tbody>\n",
       "    <tr>\n",
       "      <th>0</th>\n",
       "      <td>45</td>\n",
       "      <td>2</td>\n",
       "      <td>52.197751</td>\n",
       "      <td>20.964537</td>\n",
       "      <td>2018</td>\n",
       "      <td>25</td>\n",
       "    </tr>\n",
       "  </tbody>\n",
       "</table>\n",
       "</div>"
      ],
      "text/plain": [
       "   Powierzchnia  Liczba pokoi          φ          λ  Rok budowy  \\\n",
       "0            45             2  52.197751  20.964537        2018   \n",
       "\n",
       "   Czas dojazdu do centrum  \n",
       "0                       25  "
      ]
     },
     "metadata": {},
     "output_type": "display_data"
    },
    {
     "name": "stdout",
     "output_type": "stream",
     "text": [
      "For an apartment with area = 45 m^2, 2 room(s), build in 2018 and located at (52.197751, 20.964537), \n",
      "predicted rental price is 3052.0 zł.\n"
     ]
    }
   ],
   "source": [
    "predict_rental(test_1)\n",
    "#predict_sale(test_1)"
   ]
  },
  {
   "cell_type": "code",
   "execution_count": 33,
   "metadata": {},
   "outputs": [
    {
     "data": {
      "text/html": [
       "<div>\n",
       "<style scoped>\n",
       "    .dataframe tbody tr th:only-of-type {\n",
       "        vertical-align: middle;\n",
       "    }\n",
       "\n",
       "    .dataframe tbody tr th {\n",
       "        vertical-align: top;\n",
       "    }\n",
       "\n",
       "    .dataframe thead th {\n",
       "        text-align: right;\n",
       "    }\n",
       "</style>\n",
       "<table border=\"1\" class=\"dataframe\">\n",
       "  <thead>\n",
       "    <tr style=\"text-align: right;\">\n",
       "      <th></th>\n",
       "      <th>Powierzchnia</th>\n",
       "      <th>Liczba pokoi</th>\n",
       "      <th>φ</th>\n",
       "      <th>λ</th>\n",
       "      <th>Rok budowy</th>\n",
       "      <th>Czas dojazdu do centrum</th>\n",
       "    </tr>\n",
       "  </thead>\n",
       "  <tbody>\n",
       "    <tr>\n",
       "      <th>0</th>\n",
       "      <td>68.8</td>\n",
       "      <td>3</td>\n",
       "      <td>52.147</td>\n",
       "      <td>21.047</td>\n",
       "      <td>1980</td>\n",
       "      <td>29</td>\n",
       "    </tr>\n",
       "  </tbody>\n",
       "</table>\n",
       "</div>"
      ],
      "text/plain": [
       "   Powierzchnia  Liczba pokoi       φ       λ  Rok budowy  \\\n",
       "0          68.8             3  52.147  21.047        1980   \n",
       "\n",
       "   Czas dojazdu do centrum  \n",
       "0                       29  "
      ]
     },
     "metadata": {},
     "output_type": "display_data"
    },
    {
     "name": "stdout",
     "output_type": "stream",
     "text": [
      "For an apartment with area = 68.8 m^2, 3 room(s), build in 1980 and located at (52.147, 21.047), \n",
      "predicted sale price is 654283.0 zł.\n"
     ]
    }
   ],
   "source": [
    "#predict_rental(test_2)\n",
    "predict_sale(test_2)"
   ]
  },
  {
   "cell_type": "code",
   "execution_count": null,
   "metadata": {},
   "outputs": [],
   "source": []
  }
 ],
 "metadata": {
  "kernelspec": {
   "display_name": "Python 3",
   "language": "python",
   "name": "python3"
  },
  "language_info": {
   "codemirror_mode": {
    "name": "ipython",
    "version": 3
   },
   "file_extension": ".py",
   "mimetype": "text/x-python",
   "name": "python",
   "nbconvert_exporter": "python",
   "pygments_lexer": "ipython3",
   "version": "3.6.9"
  }
 },
 "nbformat": 4,
 "nbformat_minor": 2
}
