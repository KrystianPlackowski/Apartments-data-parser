{
 "cells": [
  {
   "cell_type": "code",
   "execution_count": 25,
   "metadata": {},
   "outputs": [],
   "source": [
    "import pandas as pd\n",
    "import pickle"
   ]
  },
  {
   "cell_type": "markdown",
   "metadata": {},
   "source": [
    "# 1. Prepare"
   ]
  },
  {
   "cell_type": "markdown",
   "metadata": {},
   "source": [
    "## 1.1. Load learned models from pickle"
   ]
  },
  {
   "cell_type": "code",
   "execution_count": 2,
   "metadata": {},
   "outputs": [],
   "source": [
    "with open('pickles/predict_rental_price.pkl', 'rb') as f:\n",
    "    regressor_rental = pickle.load(f) \n",
    "with open('pickles/predict_rental_price_scaler.pkl', 'rb') as f:\n",
    "    scaler_rental = pickle.load(f) \n",
    "    \n",
    "with open('pickles/predict_sale_price.pkl', 'rb') as f:\n",
    "    regressor_sale = pickle.load(f) \n",
    "with open('pickles/predict_sale_price_scaler.pkl', 'rb') as f:\n",
    "    scaler_sale = pickle.load(f) "
   ]
  },
  {
   "cell_type": "markdown",
   "metadata": {},
   "source": [
    "## 1.2. Build functions capable to use trained model"
   ]
  },
  {
   "cell_type": "code",
   "execution_count": 3,
   "metadata": {},
   "outputs": [],
   "source": [
    "def predict_rental(test):\n",
    "    \n",
    "    test_ = scaler_rental.transform(test)\n",
    "    display(test)\n",
    "\n",
    "    print(\"For an apartment with area = {} m^2, {} room(s), build in {} and located at ({}, {}), \\npredicted rental price is {} zł.\".\n",
    "          format(test['Powierzchnia'].iloc[0], test['Liczba pokoi'].iloc[0], test['Rok budowy'].iloc[0]\n",
    "                 , test['φ'].iloc[0], test['λ'].iloc[0], round(regressor_rental.predict(test_)[0])))\n",
    "    \n",
    "    \n",
    "def predict_sale(test):\n",
    "\n",
    "    test_ = scaler_sale.transform(test)\n",
    "    display(test)\n",
    "\n",
    "    print(\"For an apartment with area = {} m^2, {} room(s), build in {} and located at ({}, {}), \\npredicted sale price is {} zł.\".\n",
    "          format(test['Powierzchnia'].iloc[0], test['Liczba pokoi'].iloc[0], test['Rok budowy'].iloc[0]\n",
    "                 , test['φ'].iloc[0], test['λ'].iloc[0], round(regressor_sale.predict(test_)[0])))"
   ]
  },
  {
   "cell_type": "markdown",
   "metadata": {},
   "source": [
    "## 1.3. Test on some hand-typed data"
   ]
  },
  {
   "cell_type": "code",
   "execution_count": 4,
   "metadata": {},
   "outputs": [],
   "source": [
    "test_1 = pd.DataFrame([[45, 2, 52.197751, 20.964537, 2018, 25]], columns=['Powierzchnia', 'Liczba pokoi', 'φ', 'λ', 'Rok budowy', 'Czas dojazdu do centrum'])\n",
    "test_2 = pd.DataFrame([[68.80, 3, 52.147, 21.047, 1980, 29]], columns=['Powierzchnia', 'Liczba pokoi', 'φ', 'λ', 'Rok budowy', 'Czas dojazdu do centrum'])"
   ]
  },
  {
   "cell_type": "code",
   "execution_count": 5,
   "metadata": {},
   "outputs": [
    {
     "data": {
      "text/html": [
       "<div>\n",
       "<style scoped>\n",
       "    .dataframe tbody tr th:only-of-type {\n",
       "        vertical-align: middle;\n",
       "    }\n",
       "\n",
       "    .dataframe tbody tr th {\n",
       "        vertical-align: top;\n",
       "    }\n",
       "\n",
       "    .dataframe thead th {\n",
       "        text-align: right;\n",
       "    }\n",
       "</style>\n",
       "<table border=\"1\" class=\"dataframe\">\n",
       "  <thead>\n",
       "    <tr style=\"text-align: right;\">\n",
       "      <th></th>\n",
       "      <th>Powierzchnia</th>\n",
       "      <th>Liczba pokoi</th>\n",
       "      <th>φ</th>\n",
       "      <th>λ</th>\n",
       "      <th>Rok budowy</th>\n",
       "      <th>Czas dojazdu do centrum</th>\n",
       "    </tr>\n",
       "  </thead>\n",
       "  <tbody>\n",
       "    <tr>\n",
       "      <th>0</th>\n",
       "      <td>45</td>\n",
       "      <td>2</td>\n",
       "      <td>52.197751</td>\n",
       "      <td>20.964537</td>\n",
       "      <td>2018</td>\n",
       "      <td>25</td>\n",
       "    </tr>\n",
       "  </tbody>\n",
       "</table>\n",
       "</div>"
      ],
      "text/plain": [
       "   Powierzchnia  Liczba pokoi          φ          λ  Rok budowy  \\\n",
       "0            45             2  52.197751  20.964537        2018   \n",
       "\n",
       "   Czas dojazdu do centrum  \n",
       "0                       25  "
      ]
     },
     "metadata": {},
     "output_type": "display_data"
    },
    {
     "name": "stdout",
     "output_type": "stream",
     "text": [
      "For an apartment with area = 45 m^2, 2 room(s), build in 2018 and located at (52.197751, 20.964537), \n",
      "predicted rental price is 3052.0 zł.\n"
     ]
    }
   ],
   "source": [
    "predict_rental(test_1)"
   ]
  },
  {
   "cell_type": "code",
   "execution_count": 6,
   "metadata": {},
   "outputs": [
    {
     "data": {
      "text/html": [
       "<div>\n",
       "<style scoped>\n",
       "    .dataframe tbody tr th:only-of-type {\n",
       "        vertical-align: middle;\n",
       "    }\n",
       "\n",
       "    .dataframe tbody tr th {\n",
       "        vertical-align: top;\n",
       "    }\n",
       "\n",
       "    .dataframe thead th {\n",
       "        text-align: right;\n",
       "    }\n",
       "</style>\n",
       "<table border=\"1\" class=\"dataframe\">\n",
       "  <thead>\n",
       "    <tr style=\"text-align: right;\">\n",
       "      <th></th>\n",
       "      <th>Powierzchnia</th>\n",
       "      <th>Liczba pokoi</th>\n",
       "      <th>φ</th>\n",
       "      <th>λ</th>\n",
       "      <th>Rok budowy</th>\n",
       "      <th>Czas dojazdu do centrum</th>\n",
       "    </tr>\n",
       "  </thead>\n",
       "  <tbody>\n",
       "    <tr>\n",
       "      <th>0</th>\n",
       "      <td>68.8</td>\n",
       "      <td>3</td>\n",
       "      <td>52.147</td>\n",
       "      <td>21.047</td>\n",
       "      <td>1980</td>\n",
       "      <td>29</td>\n",
       "    </tr>\n",
       "  </tbody>\n",
       "</table>\n",
       "</div>"
      ],
      "text/plain": [
       "   Powierzchnia  Liczba pokoi       φ       λ  Rok budowy  \\\n",
       "0          68.8             3  52.147  21.047        1980   \n",
       "\n",
       "   Czas dojazdu do centrum  \n",
       "0                       29  "
      ]
     },
     "metadata": {},
     "output_type": "display_data"
    },
    {
     "name": "stdout",
     "output_type": "stream",
     "text": [
      "For an apartment with area = 68.8 m^2, 3 room(s), build in 1980 and located at (52.147, 21.047), \n",
      "predicted sale price is 654283.0 zł.\n"
     ]
    }
   ],
   "source": [
    "predict_sale(test_2)"
   ]
  },
  {
   "cell_type": "markdown",
   "metadata": {},
   "source": [
    "# 2. Test"
   ]
  },
  {
   "cell_type": "markdown",
   "metadata": {},
   "source": [
    "## 2.1. Read input data from user"
   ]
  },
  {
   "cell_type": "code",
   "execution_count": 74,
   "metadata": {},
   "outputs": [],
   "source": [
    "import geopandas as gpd\n",
    "import folium\n",
    "from folium import Marker, Choropleth\n",
    "from IPython.display import display\n",
    "from ipywidgets import interact, interactive, FloatSlider, IntSlider, IntRangeSlider"
   ]
  },
  {
   "cell_type": "code",
   "execution_count": 11,
   "metadata": {},
   "outputs": [],
   "source": [
    "# Function for displaying the map\n",
    "def embed_map(m, file_name):\n",
    "    from IPython.display import IFrame\n",
    "    m.save(file_name)\n",
    "    return IFrame(file_name, width='100%', height='500px')"
   ]
  },
  {
   "cell_type": "markdown",
   "metadata": {},
   "source": [
    "## 2.2. Read districts shape data from file"
   ]
  },
  {
   "cell_type": "code",
   "execution_count": 26,
   "metadata": {},
   "outputs": [
    {
     "name": "stderr",
     "output_type": "stream",
     "text": [
      "/usr/local/lib/python3.6/dist-packages/pyproj/crs.py:77: FutureWarning: '+init=<authority>:<code>' syntax is deprecated. '<authority>:<code>' is the preferred initialization method.\n",
      "  return _prepare_from_string(\" \".join(pjargs))\n"
     ]
    }
   ],
   "source": [
    "geo = gpd.read_file(\"districts/warszawa_dzielnice.shp\").to_crs({'init': 'epsg:4326'})\n",
    "geo = geo.drop(0).reset_index().drop(columns=['index', 'cartodb_id'])"
   ]
  },
  {
   "cell_type": "markdown",
   "metadata": {},
   "source": [
    "# 2.3. Pick user input, show location on the interactive map and calculate price"
   ]
  },
  {
   "cell_type": "code",
   "execution_count": 96,
   "metadata": {},
   "outputs": [
    {
     "data": {
      "application/vnd.jupyter.widget-view+json": {
       "model_id": "f323a7ca821a45cc967b2b5c3fc1c60b",
       "version_major": 2,
       "version_minor": 0
      },
      "text/plain": [
       "interactive(children=(Dropdown(description='kind', options=('sale', 'rental'), value='sale'), FloatSlider(valu…"
      ]
     },
     "metadata": {},
     "output_type": "display_data"
    }
   ],
   "source": [
    "def visualise_price(kind='sale', latitude=52.15, longitude=21.05, area=45, rooms=2, year=2018, time=25):\n",
    "    \n",
    "    # Create a base map\n",
    "    m_1 = folium.Map(location=[52.2323, 21.0000], tiles='cartodbpositron', zoom_start=10)\n",
    "\n",
    "    # Add marker indicating user's location to the map\n",
    "    Marker([latitude, longitude]).add_to(m_1)\n",
    "    \n",
    "    # Add district bondaries to the map\n",
    "    Choropleth(geo_data=geo.__geo_interface__).add_to(m_1)\n",
    "\n",
    "    # Display the map\n",
    "    display(embed_map(m_1, 'maps/m_1.html'))\n",
    "    \n",
    "    \n",
    "    data = pd.DataFrame([[area, rooms, latitude, longitude, year, time]]\n",
    "                          , columns=['Powierzchnia', 'Liczba pokoi', 'φ', 'λ', 'Rok budowy', 'Czas dojazdu do centrum'])\n",
    "    if kind == 'sale':\n",
    "        predict_sale(data)\n",
    "    else:\n",
    "        predict_rental(data)\n",
    "    \n",
    "    \n",
    "interactive(visualise_price, {'manual': True}, kind=(['sale', 'rental']), latitude=(52.08, 52.36, 0.01), longitude=(20.85, 21.3, 0.01), \n",
    "           area=(10, 150, 1), rooms=(1,8,1), year=(1800, 2020, 1), time=(5, 70, 1))"
   ]
  },
  {
   "cell_type": "markdown",
   "metadata": {},
   "source": [
    "## One last comment:\n",
    "Parameter \"`time to travel to city center`\"is depended on `location coordinates`, but for simplicity sake it was made as user input."
   ]
  },
  {
   "cell_type": "code",
   "execution_count": null,
   "metadata": {},
   "outputs": [],
   "source": []
  }
 ],
 "metadata": {
  "kernelspec": {
   "display_name": "Python 3",
   "language": "python",
   "name": "python3"
  },
  "language_info": {
   "codemirror_mode": {
    "name": "ipython",
    "version": 3
   },
   "file_extension": ".py",
   "mimetype": "text/x-python",
   "name": "python",
   "nbconvert_exporter": "python",
   "pygments_lexer": "ipython3",
   "version": "3.6.9"
  }
 },
 "nbformat": 4,
 "nbformat_minor": 2
}
