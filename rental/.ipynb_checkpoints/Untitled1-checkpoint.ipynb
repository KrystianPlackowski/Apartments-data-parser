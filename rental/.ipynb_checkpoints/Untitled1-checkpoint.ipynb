{
 "cells": [
  {
   "cell_type": "code",
   "execution_count": 1,
   "metadata": {},
   "outputs": [],
   "source": [
    "import os\n",
    "import numpy as np\n",
    "import requests\n",
    "from bs4 import BeautifulSoup\n",
    "import json\n",
    "import pandas as pd\n",
    "from shapely.geometry import Point\n",
    "import pickle\n",
    "import time"
   ]
  },
  {
   "cell_type": "markdown",
   "metadata": {},
   "source": [
    "# Import interactive maps module and geoencoding library"
   ]
  },
  {
   "cell_type": "code",
   "execution_count": null,
   "metadata": {},
   "outputs": [],
   "source": [
    "import geopandas as gpd\n",
    "from geopandas.tools import geocode\n",
    "import folium\n",
    "from folium import Choropleth, Circle, Marker\n",
    "from folium.plugins import HeatMap, MarkerCluster"
   ]
  },
  {
   "cell_type": "code",
   "execution_count": null,
   "metadata": {},
   "outputs": [],
   "source": [
    "# Function for displaying the map\n",
    "def embed_map(m, file_name):\n",
    "    from IPython.display import IFrame\n",
    "    m.save(file_name)\n",
    "    return IFrame(file_name, width='100%', height='500px')"
   ]
  },
  {
   "cell_type": "code",
   "execution_count": null,
   "metadata": {},
   "outputs": [],
   "source": [
    "# Function for encoding geolocation from name\n",
    "def encode(name):\n",
    "    #print(\"Encoding '{}'\".format(name))\n",
    "    try:\n",
    "        return geocode(name, provider='nominatim').geometry\n",
    "    except Exception as err:\n",
    "        print(\"Error while encoding '{}'!\".format(name))\n",
    "        return None"
   ]
  },
  {
   "cell_type": "markdown",
   "metadata": {},
   "source": [
    "# Encode locations of metro stations"
   ]
  },
  {
   "cell_type": "code",
   "execution_count": null,
   "metadata": {},
   "outputs": [],
   "source": [
    "# Get to the page containing a table with names of all metro stations in Warsaw\n",
    "response = requests.get('https://pl.wikipedia.org/wiki/Lista_stacji_metra_w_Warszawie')\n",
    "soup = BeautifulSoup(response.text, 'html.parser'"
   ]
  },
  {
   "cell_type": "code",
   "execution_count": null,
   "metadata": {},
   "outputs": [],
   "source": [
    "# Encode locations of metro stations and create a DataFrame\n",
    "metro = pd.DataFrame(columns = ['Nazwa', 'Lokalizacja'])\n",
    "\n",
    "for row in soup.find(\"table\").find_all(\"tr\")[1:-1]:\n",
    "    name = (\"Metro \" + row.find_all(\"td\")[1].text).replace('\\n','')\n",
    "    loc = encode(name + \" Warsaw\")\n",
    "    if loc is not None:\n",
    "        metro = metro.append({'Nazwa':name, 'Lokalizacja':Point(loc.y, loc.x)}, ignore_index=True)\n",
    "\n",
    "# Dump to pickle\n",
    "with open('metro.pkl', 'wb') as f:\n",
    "    pickle.dump(metro, f)"
   ]
  },
  {
   "cell_type": "code",
   "execution_count": null,
   "metadata": {},
   "outputs": [],
   "source": [
    "# Plot locations of metro stations \n",
    "There are few errors (`Metro Ratusz Arsenał` and `Metro Ursynów` weren't properly encoded)"
   ]
  },
  {
   "cell_type": "code",
   "execution_count": null,
   "metadata": {},
   "outputs": [],
   "source": [
    "# Create a map\n",
    "m_1 = folium.Map(location=[52.2323,21.0000], tiles='cartodbpositron', zoom_start=11)\n",
    "\n",
    "# Add points to the map\n",
    "for idx, station in metro.iterrows():\n",
    "        Marker((station['Lokalizacja'].x, station['Lokalizacja'].y), popup=station['Nazwa']).add_to(m_1)\n",
    "\n",
    "\n",
    "# Display the map\n",
    "embed_map(m_1, 'm_1.html')"
   ]
  }
 ],
 "metadata": {
  "kernelspec": {
   "display_name": "Python 3",
   "language": "python",
   "name": "python3"
  },
  "language_info": {
   "codemirror_mode": {
    "name": "ipython",
    "version": 3
   },
   "file_extension": ".py",
   "mimetype": "text/x-python",
   "name": "python",
   "nbconvert_exporter": "python",
   "pygments_lexer": "ipython3",
   "version": "3.6.9"
  }
 },
 "nbformat": 4,
 "nbformat_minor": 2
}
